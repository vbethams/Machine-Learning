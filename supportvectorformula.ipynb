{
 "cells": [
  {
   "cell_type": "code",
   "execution_count": 1,
   "metadata": {},
   "outputs": [],
   "source": [
    "import pandas as pd\n",
    "import numpy as np\n",
    "plant = pd.read_csv('plant.csv')"
   ]
  },
  {
   "cell_type": "code",
   "execution_count": 3,
   "metadata": {},
   "outputs": [
    {
     "data": {
      "text/html": [
       "<div>\n",
       "<style scoped>\n",
       "    .dataframe tbody tr th:only-of-type {\n",
       "        vertical-align: middle;\n",
       "    }\n",
       "\n",
       "    .dataframe tbody tr th {\n",
       "        vertical-align: top;\n",
       "    }\n",
       "\n",
       "    .dataframe thead th {\n",
       "        text-align: right;\n",
       "    }\n",
       "</style>\n",
       "<table border=\"1\" class=\"dataframe\">\n",
       "  <thead>\n",
       "    <tr style=\"text-align: right;\">\n",
       "      <th></th>\n",
       "      <th>F1</th>\n",
       "      <th>F2</th>\n",
       "      <th>F3</th>\n",
       "      <th>F4</th>\n",
       "      <th>F5</th>\n",
       "      <th>F6</th>\n",
       "      <th>F7</th>\n",
       "      <th>F8</th>\n",
       "      <th>F9</th>\n",
       "      <th>F10</th>\n",
       "      <th>...</th>\n",
       "      <th>F15</th>\n",
       "      <th>F16</th>\n",
       "      <th>F17</th>\n",
       "      <th>F18</th>\n",
       "      <th>F19</th>\n",
       "      <th>F20</th>\n",
       "      <th>F21</th>\n",
       "      <th>F22</th>\n",
       "      <th>F23</th>\n",
       "      <th>T</th>\n",
       "    </tr>\n",
       "  </thead>\n",
       "  <tbody>\n",
       "    <tr>\n",
       "      <th>0</th>\n",
       "      <td>0.559318</td>\n",
       "      <td>0.168862</td>\n",
       "      <td>7.257456</td>\n",
       "      <td>0.013264</td>\n",
       "      <td>2.442463</td>\n",
       "      <td>0.338663</td>\n",
       "      <td>0.909578</td>\n",
       "      <td>0.124971</td>\n",
       "      <td>0.863168</td>\n",
       "      <td>0.124971</td>\n",
       "      <td>...</td>\n",
       "      <td>10.004906</td>\n",
       "      <td>107.249273</td>\n",
       "      <td>2.179754</td>\n",
       "      <td>3.523551</td>\n",
       "      <td>0.282158</td>\n",
       "      <td>0.655862</td>\n",
       "      <td>-0.540350</td>\n",
       "      <td>0.962611</td>\n",
       "      <td>0.936937</td>\n",
       "      <td>1</td>\n",
       "    </tr>\n",
       "    <tr>\n",
       "      <th>1</th>\n",
       "      <td>0.579257</td>\n",
       "      <td>0.159956</td>\n",
       "      <td>7.120799</td>\n",
       "      <td>0.297232</td>\n",
       "      <td>2.166805</td>\n",
       "      <td>0.314408</td>\n",
       "      <td>0.908118</td>\n",
       "      <td>0.150460</td>\n",
       "      <td>0.871048</td>\n",
       "      <td>0.150460</td>\n",
       "      <td>...</td>\n",
       "      <td>10.235738</td>\n",
       "      <td>111.299146</td>\n",
       "      <td>2.063268</td>\n",
       "      <td>3.340540</td>\n",
       "      <td>0.262196</td>\n",
       "      <td>0.634552</td>\n",
       "      <td>-0.529002</td>\n",
       "      <td>0.953792</td>\n",
       "      <td>0.917768</td>\n",
       "      <td>1</td>\n",
       "    </tr>\n",
       "    <tr>\n",
       "      <th>2</th>\n",
       "      <td>0.597987</td>\n",
       "      <td>0.189701</td>\n",
       "      <td>7.337628</td>\n",
       "      <td>-0.579806</td>\n",
       "      <td>2.710970</td>\n",
       "      <td>0.367551</td>\n",
       "      <td>0.922431</td>\n",
       "      <td>0.119970</td>\n",
       "      <td>0.858656</td>\n",
       "      <td>0.119970</td>\n",
       "      <td>...</td>\n",
       "      <td>10.558140</td>\n",
       "      <td>120.576853</td>\n",
       "      <td>2.224622</td>\n",
       "      <td>3.616883</td>\n",
       "      <td>0.307822</td>\n",
       "      <td>0.675735</td>\n",
       "      <td>-0.548102</td>\n",
       "      <td>0.967041</td>\n",
       "      <td>0.955676</td>\n",
       "      <td>1</td>\n",
       "    </tr>\n",
       "    <tr>\n",
       "      <th>3</th>\n",
       "      <td>0.553882</td>\n",
       "      <td>0.208003</td>\n",
       "      <td>7.514766</td>\n",
       "      <td>-0.244880</td>\n",
       "      <td>2.287137</td>\n",
       "      <td>0.352471</td>\n",
       "      <td>0.936713</td>\n",
       "      <td>0.119164</td>\n",
       "      <td>0.863590</td>\n",
       "      <td>0.119164</td>\n",
       "      <td>...</td>\n",
       "      <td>9.866824</td>\n",
       "      <td>108.118823</td>\n",
       "      <td>2.305432</td>\n",
       "      <td>3.729462</td>\n",
       "      <td>0.295240</td>\n",
       "      <td>0.667436</td>\n",
       "      <td>-0.575286</td>\n",
       "      <td>0.975177</td>\n",
       "      <td>0.955660</td>\n",
       "      <td>1</td>\n",
       "    </tr>\n",
       "    <tr>\n",
       "      <th>4</th>\n",
       "      <td>0.486785</td>\n",
       "      <td>0.193948</td>\n",
       "      <td>7.403279</td>\n",
       "      <td>0.172379</td>\n",
       "      <td>2.428262</td>\n",
       "      <td>0.336664</td>\n",
       "      <td>0.931038</td>\n",
       "      <td>0.117811</td>\n",
       "      <td>0.865823</td>\n",
       "      <td>0.117811</td>\n",
       "      <td>...</td>\n",
       "      <td>8.828852</td>\n",
       "      <td>87.361010</td>\n",
       "      <td>2.267637</td>\n",
       "      <td>3.650929</td>\n",
       "      <td>0.281250</td>\n",
       "      <td>0.653357</td>\n",
       "      <td>-0.573112</td>\n",
       "      <td>0.973051</td>\n",
       "      <td>0.940714</td>\n",
       "      <td>1</td>\n",
       "    </tr>\n",
       "  </tbody>\n",
       "</table>\n",
       "<p>5 rows × 24 columns</p>\n",
       "</div>"
      ],
      "text/plain": [
       "         F1        F2        F3        F4        F5        F6        F7  \\\n",
       "0  0.559318  0.168862  7.257456  0.013264  2.442463  0.338663  0.909578   \n",
       "1  0.579257  0.159956  7.120799  0.297232  2.166805  0.314408  0.908118   \n",
       "2  0.597987  0.189701  7.337628 -0.579806  2.710970  0.367551  0.922431   \n",
       "3  0.553882  0.208003  7.514766 -0.244880  2.287137  0.352471  0.936713   \n",
       "4  0.486785  0.193948  7.403279  0.172379  2.428262  0.336664  0.931038   \n",
       "\n",
       "         F8        F9       F10 ...        F15         F16       F17  \\\n",
       "0  0.124971  0.863168  0.124971 ...  10.004906  107.249273  2.179754   \n",
       "1  0.150460  0.871048  0.150460 ...  10.235738  111.299146  2.063268   \n",
       "2  0.119970  0.858656  0.119970 ...  10.558140  120.576853  2.224622   \n",
       "3  0.119164  0.863590  0.119164 ...   9.866824  108.118823  2.305432   \n",
       "4  0.117811  0.865823  0.117811 ...   8.828852   87.361010  2.267637   \n",
       "\n",
       "        F18       F19       F20       F21       F22       F23  T  \n",
       "0  3.523551  0.282158  0.655862 -0.540350  0.962611  0.936937  1  \n",
       "1  3.340540  0.262196  0.634552 -0.529002  0.953792  0.917768  1  \n",
       "2  3.616883  0.307822  0.675735 -0.548102  0.967041  0.955676  1  \n",
       "3  3.729462  0.295240  0.667436 -0.575286  0.975177  0.955660  1  \n",
       "4  3.650929  0.281250  0.653357 -0.573112  0.973051  0.940714  1  \n",
       "\n",
       "[5 rows x 24 columns]"
      ]
     },
     "execution_count": 3,
     "metadata": {},
     "output_type": "execute_result"
    }
   ],
   "source": [
    "plant.head()"
   ]
  },
  {
   "cell_type": "code",
   "execution_count": 4,
   "metadata": {},
   "outputs": [
    {
     "data": {
      "text/plain": [
       "array([1, 2, 3, 4], dtype=int64)"
      ]
     },
     "execution_count": 4,
     "metadata": {},
     "output_type": "execute_result"
    }
   ],
   "source": [
    "plant['T'].unique()"
   ]
  },
  {
   "cell_type": "code",
   "execution_count": 9,
   "metadata": {},
   "outputs": [],
   "source": [
    "from sklearn.model_selection import train_test_split\n",
    "train,test =train_test_split(plant,test_size=0.3,random_state=100)\n",
    "train_y =train['T']\n",
    "test_y = test['T']\n",
    "train_x=train.drop('T',axis=1)\n",
    "test_x=test.drop('T',axis=1)"
   ]
  },
  {
   "cell_type": "code",
   "execution_count": 14,
   "metadata": {},
   "outputs": [],
   "source": [
    "from sklearn.svm import SVC\n",
    "model = SVC(kernel ='poly')\n",
    "model.fit(train_x,train_y)\n",
    "test_pred = model.predict(test_x)"
   ]
  },
  {
   "cell_type": "code",
   "execution_count": 17,
   "metadata": {},
   "outputs": [
    {
     "data": {
      "text/plain": [
       "0.75"
      ]
     },
     "execution_count": 17,
     "metadata": {},
     "output_type": "execute_result"
    }
   ],
   "source": [
    "from sklearn.metrics import accuracy_score,classification_report,confusion_matrix\n",
    "accuracy_score(test_y,test_pred)"
   ]
  },
  {
   "cell_type": "code",
   "execution_count": 16,
   "metadata": {},
   "outputs": [
    {
     "data": {
      "text/plain": [
       "{'C': 10, 'gamma': 0.01, 'kernel': 'linear'}"
      ]
     },
     "execution_count": 16,
     "metadata": {},
     "output_type": "execute_result"
    }
   ],
   "source": [
    "param = [{'kernel':['linear'],'gamma':[1e-2,1e-3,1e-4,1e-5],'C':[0.001,0.10,0.1,10,25,50,100,1000]}]\n",
    "from sklearn.model_selection import GridSearchCV\n",
    " svm_cv =GridSearchCV(model,param_grid =param)\n",
    "svm_cv.fit(train_x,train_y)\n",
    "svm_cv.best_params_ "
   ]
  },
  {
   "cell_type": "code",
   "execution_count": 21,
   "metadata": {},
   "outputs": [
    {
     "data": {
      "text/plain": [
       "<matplotlib.axes._subplots.AxesSubplot at 0x222d92c0b38>"
      ]
     },
     "execution_count": 21,
     "metadata": {},
     "output_type": "execute_result"
    },
    {
     "data": {
      "image/png": "[encoded data removed]",
      "text/plain": [
       "<Figure size 432x288 with 2 Axes>"
      ]
     },
     "metadata": {
      "needs_background": "light"
     },
     "output_type": "display_data"
    }
   ],
   "source": [
    "cp = confusion_matrix(test_y,test_pred)\n",
    "import seaborn as sns\n",
    "sns.heatmap(cp,annot = True,fmt='d')"
   ]
  },
  {
   "cell_type": "code",
   "execution_count": 22,
   "metadata": {},
   "outputs": [],
   "source": [
    "from sklearn.multiclass import OneVsRestClassifier\n",
    "from sklearn.preprocessing import label_binarize\n",
    "\n",
    "targ = label_binarize(plant['T'],classes =[1,2,3,4])\n",
    "n_classes =4\n",
    "xtrain,xtest,ytrain,ytest = train_test_split(plant.drop('T',axis=1),plant['T'],test_size=0.3,random_state=0)\n",
    "\n",
    "clf = OneVsRestClassifier(SVC(kernel ='poly',random_state= 0))\n",
    "y_score = clf.fit(xtrain,ytrain).decision_function(xtest)"
   ]
  },
  {
   "cell_type": "code",
   "execution_count": 26,
   "metadata": {
    "collapsed": true
   },
   "outputs": [
    {
     "data": {
      "text/plain": [
       "array([[-1.02860640e+01, -8.94697389e+00,  1.35151967e+00,\n",
       "        -7.14733468e+00],\n",
       "       [-3.85615190e+01, -1.04168685e+01, -3.17121612e-01,\n",
       "         6.41172674e+00],\n",
       "       [-3.70239488e+01, -1.01564913e+01, -5.62638215e-01,\n",
       "         6.54520729e+00],\n",
       "       [-9.86208706e-01, -9.20595071e+00, -9.62169476e-01,\n",
       "        -3.91731237e+00],\n",
       "       [-3.36516600e+01, -8.06098536e+00, -1.37470813e+00,\n",
       "         6.16334207e+00],\n",
       "       [ 2.94864226e+00, -3.61104049e+00, -1.42938606e+00,\n",
       "        -5.37622058e+00],\n",
       "       [ 3.20927047e+00, -7.16836530e+00, -1.90985369e-01,\n",
       "        -3.90126463e+00],\n",
       "       [ 9.12255657e+00, -6.58790624e+00, -1.57830452e+00,\n",
       "        -6.42784357e+00],\n",
       "       [-8.57294323e+01,  4.23935009e+01, -8.57511694e+00,\n",
       "        -1.23525585e+01],\n",
       "       [-4.59165660e+01, -1.57122705e+01,  1.17197130e+01,\n",
       "        -2.00037108e+01],\n",
       "       [-6.43667710e+00, -7.16276865e+00, -7.86182799e-01,\n",
       "        -2.75105709e+00],\n",
       "       [-3.71020733e-02,  2.07264723e+00, -3.92190495e+00,\n",
       "        -3.10678075e+00],\n",
       "       [-2.68804474e+00, -3.61104795e+01,  2.94860870e+00,\n",
       "        -1.20860469e+01],\n",
       "       [ 2.03233968e+01, -6.73513639e+01,  5.22784347e+00,\n",
       "        -3.14937411e+01],\n",
       "       [-2.96246231e+01, -3.88543265e+02, -2.81634050e+01,\n",
       "         1.79483059e+01],\n",
       "       [-2.25931853e+01, -2.96246473e+01,  4.42356623e+00,\n",
       "        -1.09839086e+01],\n",
       "       [ 7.47992140e-01,  4.56650109e+00, -3.72582869e+00,\n",
       "        -5.95144759e+00],\n",
       "       [-3.84567990e+01,  3.29911963e+01, -7.14455119e+00,\n",
       "        -9.25110806e+00],\n",
       "       [-4.36976682e+01, -4.87189109e+01, -1.32347782e+01,\n",
       "         9.23002878e+00],\n",
       "       [-1.08351956e+01, -2.07261130e+01,  2.04190855e+00,\n",
       "        -3.94818307e+00],\n",
       "       [-2.84572649e+01, -3.45602647e+01,  5.48252596e+00,\n",
       "        -1.20708550e+01],\n",
       "       [-2.01190872e+00, -4.27806272e+00, -7.19518979e-02,\n",
       "        -2.54455096e+00],\n",
       "       [ 9.15516420e+00, -6.38747932e+00, -1.83645407e+00,\n",
       "        -4.74648623e+00],\n",
       "       [ 2.40310290e+00, -1.82305109e+00, -3.40505287e+00,\n",
       "        -3.19007458e+00],\n",
       "       [-5.58264092e+01, -4.51464898e+00, -1.18349341e+01,\n",
       "         9.47840514e+00],\n",
       "       [ 7.95553790e+00, -2.34324785e+01,  1.33314489e+00,\n",
       "        -5.52693023e+00],\n",
       "       [-6.89912349e+01, -2.25389207e+00, -1.85758010e+00,\n",
       "        -8.43983093e+00],\n",
       "       [-4.17456376e+01, -7.86056354e+00, -7.80485360e-01,\n",
       "         7.69997133e+00],\n",
       "       [ 3.39444411e+00, -2.33535663e+01, -4.70218237e+00,\n",
       "        -3.85840703e-02],\n",
       "       [-4.05379834e+01, -1.31152223e+02,  8.18429325e+00,\n",
       "        -2.23448826e+01],\n",
       "       [ 3.17113900e+00, -3.02202458e-01, -1.94434227e+00,\n",
       "        -2.75775696e+00],\n",
       "       [-3.14501089e+01, -3.38032164e+01, -9.12192850e+00,\n",
       "         7.70287200e+00],\n",
       "       [ 1.11729506e+00, -9.08393146e+00, -2.22076097e+00,\n",
       "        -6.56893875e-01],\n",
       "       [ 7.67230795e+00, -3.53971630e+01,  2.66526155e+00,\n",
       "        -2.09488437e+01],\n",
       "       [-3.68286511e+00, -2.18342894e+01,  5.19294797e-01,\n",
       "        -3.70049231e+00],\n",
       "       [-3.46443595e+01, -9.79418079e+00, -1.34352329e+00,\n",
       "         6.94040329e+00]])"
      ]
     },
     "execution_count": 26,
     "metadata": {},
     "output_type": "execute_result"
    }
   ],
   "source": [
    "y_score"
   ]
  }
 ],
 "metadata": {
  "kernelspec": {
   "display_name": "Python 3",
   "language": "python",
   "name": "python3"
  },
  "language_info": {
   "codemirror_mode": {
    "name": "ipython",
    "version": 3
   },
   "file_extension": ".py",
   "mimetype": "text/x-python",
   "name": "python",
   "nbconvert_exporter": "python",
   "pygments_lexer": "ipython3",
   "version": "3.6.4"
  }
 },
 "nbformat": 4,
 "nbformat_minor": 2
}
