{
 "cells": [
  {
   "cell_type": "code",
   "execution_count": 2,
   "metadata": {},
   "outputs": [],
   "source": [
    "import numpy as np\n",
    "import pandas as pd\n"
   ]
  },
  {
   "cell_type": "code",
   "execution_count": 4,
   "metadata": {},
   "outputs": [
    {
     "name": "stdout",
     "output_type": "stream",
     "text": [
      "Index(['Gender', 'Age Range', 'Head Size(cm^3)', 'Brain Weight(grams)'], dtype='object')\n"
     ]
    }
   ],
   "source": [
    "brain = pd.read_csv('headbrain.csv')\n",
    "print(brain.columns)\n",
    "x= brain['Head Size(cm^3)'].values\n",
    "y=brain['Brain Weight(grams)'].values\n",
    "x= x.reshape(-1,1)\n",
    "y= y.reshape(-1,1)\n",
    "x_mean = np.mean(x)\n",
    "y_mean = np.mean(y)\n"
   ]
  },
  {
   "cell_type": "code",
   "execution_count": 5,
   "metadata": {},
   "outputs": [
    {
     "name": "stdout",
     "output_type": "stream",
     "text": [
      "the residue is: 2.0691004465334117e-11\n",
      "the squared error is: 1232728.0146365522\n",
      "the mean squared error is: 5201.3840280023305\n",
      "the root mean squared error is: 72.1206213783709\n"
     ]
    }
   ],
   "source": [
    "num = sum(( x-x_mean) * (y-y_mean))\n",
    "denom = sum((x-x_mean)**2)\n",
    "b1= num/denom\n",
    "\n",
    "b0 = y_mean - b1 *(x_mean)\n",
    "\n",
    "ypred =b1*x+b0\n",
    "\n",
    "out = np.concatenate((y,ypred),axis=1)\n",
    "\n",
    "res = float(sum(ypred -y))\n",
    "sq_err =float(sum((y-ypred)**2))\n",
    "mse = np.mean((y-ypred)**2)\n",
    "rmse = np.sqrt(np.mean((y-ypred)**2))\n",
    "print(\"the residue is:\",res)\n",
    "print(\"the squared error is:\",sq_err)\n",
    "print(\"the mean squared error is:\",mse)\n",
    "print(\"the root mean squared error is:\",rmse)\n",
    "\n",
    "rsq = 1-( (sum((y-ypred )**2))/sum((y-y_mean)**2))\n",
    "N=len(x)\n",
    "p=1\n",
    "rsq_adj =1-((1-rsq**2) * (N-1))/(N-p-1)\n"
   ]
  },
  {
   "cell_type": "code",
   "execution_count": 4,
   "metadata": {},
   "outputs": [],
   "source": [
    "y =np.array([2,4,5 ])\n",
    "ypred =np.array([0,3,6])"
   ]
  },
  {
   "cell_type": "code",
   "execution_count": 5,
   "metadata": {},
   "outputs": [
    {
     "data": {
      "text/plain": [
       "1.4142135623730951"
      ]
     },
     "execution_count": 5,
     "metadata": {},
     "output_type": "execute_result"
    }
   ],
   "source": [
    "import numpy as np\n",
    "rmse = np.sqrt(np.mean((y-ypred)**2))\n",
    "rmse"
   ]
  },
  {
   "cell_type": "code",
   "execution_count": 6,
   "metadata": {},
   "outputs": [
    {
     "data": {
      "text/plain": [
       "0.375"
      ]
     },
     "execution_count": 6,
     "metadata": {},
     "output_type": "execute_result"
    }
   ],
   "source": [
    "1-np.square(50/200)-np.square(150/200)"
   ]
  }
 ],
 "metadata": {
  "kernelspec": {
   "display_name": "Python 3",
   "language": "python",
   "name": "python3"
  },
  "language_info": {
   "codemirror_mode": {
    "name": "ipython",
    "version": 3
   },
   "file_extension": ".py",
   "mimetype": "text/x-python",
   "name": "python",
   "nbconvert_exporter": "python",
   "pygments_lexer": "ipython3",
   "version": "3.6.4"
  }
 },
 "nbformat": 4,
 "nbformat_minor": 2
}
