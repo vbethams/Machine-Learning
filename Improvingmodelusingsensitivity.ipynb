{
 "cells": [
  {
   "cell_type": "code",
   "execution_count": 1,
   "metadata": {},
   "outputs": [
    {
     "name": "stderr",
     "output_type": "stream",
     "text": [
      "C:\\Users\\Name\\Anaconda3\\lib\\site-packages\\sklearn\\ensemble\\weight_boosting.py:29: DeprecationWarning: numpy.core.umath_tests is an internal NumPy module and should not be imported. It will be removed in a future NumPy release.\n",
      "  from numpy.core.umath_tests import inner1d\n"
     ]
    }
   ],
   "source": [
    "import pandas as pd\n",
    "import numpy as np\n",
    "from sklearn.model_selection import train_test_split\n",
    "from sklearn.metrics import accuracy_score\n",
    "from sklearn.ensemble import RandomForestClassifier\n",
    "from sklearn.metrics import confusion_matrix\n",
    "import matplotlib.pyplot as plt"
   ]
  },
  {
   "cell_type": "markdown",
   "metadata": {},
   "source": [
    "## Topics\n",
    " - Sensitivity and Specificity\n",
    " - ROC Curves\n",
    " - Selecting optimal sensitivity and sensitivity\n",
    " - Hyperparamater tuning\n",
    " - other techniques to improve the performance of model"
   ]
  },
  {
   "cell_type": "code",
   "execution_count": 2,
   "metadata": {},
   "outputs": [],
   "source": [
    "credit = pd.read_csv('https://raw.githubusercontent.com/skathirmani/datasets/master/credit-default.csv')\n",
    "credit_dummies = pd.get_dummies(credit)"
   ]
  },
  {
   "cell_type": "code",
   "execution_count": 3,
   "metadata": {},
   "outputs": [],
   "source": [
    "train,test = train_test_split(credit_dummies,test_size=0.3,random_state=100)\n",
    "train_x= train.drop('default',axis=1)\n",
    "test_x= test.drop('default',axis=1)\n",
    "train_y= train['default']\n",
    "test_y=test['default']"
   ]
  },
  {
   "cell_type": "code",
   "execution_count": 35,
   "metadata": {},
   "outputs": [],
   "source": [
    "test_pred = np.ones(test_x.shape[0])"
   ]
  },
  {
   "cell_type": "code",
   "execution_count": 36,
   "metadata": {},
   "outputs": [
    {
     "data": {
      "text/plain": [
       "73.0"
      ]
     },
     "execution_count": 36,
     "metadata": {},
     "output_type": "execute_result"
    }
   ],
   "source": [
    "df_pred = pd.DataFrame({'actual':test_y,'predicted':test_pred})\n",
    "df_pred['pred_status']=df_pred['actual'] ==df_pred['predicted']\n",
    "dt_accuracy=df_pred[df_pred['pred_status']==True].shape[0] / df_pred.shape[0] *100\n",
    "dt_accuracy"
   ]
  },
  {
   "cell_type": "code",
   "execution_count": 37,
   "metadata": {},
   "outputs": [
    {
     "data": {
      "text/plain": [
       "(219, 0, 81, 0)"
      ]
     },
     "execution_count": 37,
     "metadata": {},
     "output_type": "execute_result"
    }
   ],
   "source": [
    "tn,fp,fn,tp = confusion_matrix(df_pred['actual'],df_pred['predicted'],labels=[1,2]).ravel()\n",
    "tn,fp,fn,tp"
   ]
  },
  {
   "cell_type": "markdown",
   "metadata": {},
   "source": [
    "- in a balanced class specificity is high\n",
    "- negative - 1 - non default\n",
    "- positive - 2 - default\n"
   ]
  },
  {
   "cell_type": "code",
   "execution_count": 6,
   "metadata": {},
   "outputs": [
    {
     "data": {
      "text/plain": [
       "(0, 219, 0, 81)"
      ]
     },
     "execution_count": 6,
     "metadata": {},
     "output_type": "execute_result"
    }
   ],
   "source": [
    "#by taking all predicted values as 2\n",
    "test_pred = np.ones(test_x.shape[0])*2\n",
    "df_pred = pd.DataFrame({'actual':test_y,'predicted':test_pred})\n",
    "df_pred['pred_status']=df_pred['actual'] ==df_pred['predicted']\n",
    "dt_accuracy=df_pred[df_pred['pred_status']==True].shape[0] / df_pred.shape[0] *100\n",
    "dt_accuracy\n",
    "tn,fp,fn,tp = confusion_matrix(df_pred['actual'],df_pred['predicted'],labels=[1,2]).ravel()\n",
    "tn,fp,fn,tp\n"
   ]
  },
  {
   "cell_type": "code",
   "execution_count": 7,
   "metadata": {},
   "outputs": [
    {
     "data": {
      "text/plain": [
       "0.76"
      ]
     },
     "execution_count": 7,
     "metadata": {},
     "output_type": "execute_result"
    }
   ],
   "source": [
    "model = RandomForestClassifier(random_state=100)\n",
    "model.fit(train_x,train_y)\n",
    "test_pred =model.predict(test_x)\n",
    "accuracy_score(test_y,test_pred)"
   ]
  },
  {
   "cell_type": "code",
   "execution_count": 31,
   "metadata": {},
   "outputs": [
    {
     "data": {
      "text/plain": [
       "76.0"
      ]
     },
     "execution_count": 31,
     "metadata": {},
     "output_type": "execute_result"
    }
   ],
   "source": [
    "df_pred = pd.DataFrame({'actual':test_y,'predicted':test_pred})\n",
    "df_pred['pred_status']=df_pred['actual'] ==df_pred['predicted']\n",
    "dt_accuracy=df_pred[df_pred['pred_status']==True].shape[0] / df_pred.shape[0] *100\n",
    "dt_accuracy"
   ]
  },
  {
   "cell_type": "code",
   "execution_count": 32,
   "metadata": {},
   "outputs": [
    {
     "data": {
      "text/plain": [
       "(200, 19, 53, 28)"
      ]
     },
     "execution_count": 32,
     "metadata": {},
     "output_type": "execute_result"
    }
   ],
   "source": [
    "tn,fp,fn,tp = confusion_matrix(df_pred['actual'],df_pred['predicted'],labels=[1,2]).ravel()\n",
    "tn,fp,fn,tp"
   ]
  },
  {
   "cell_type": "code",
   "execution_count": 38,
   "metadata": {},
   "outputs": [
    {
     "data": {
      "text/plain": [
       "0.345679012345679"
      ]
     },
     "execution_count": 38,
     "metadata": {},
     "output_type": "execute_result"
    }
   ],
   "source": [
    "28/(28+53)"
   ]
  },
  {
   "cell_type": "code",
   "execution_count": 39,
   "metadata": {},
   "outputs": [
    {
     "data": {
      "text/plain": [
       "0.91324200913242"
      ]
     },
     "execution_count": 39,
     "metadata": {},
     "output_type": "execute_result"
    }
   ],
   "source": [
    "200/(200+19)"
   ]
  },
  {
   "cell_type": "code",
   "execution_count": 8,
   "metadata": {},
   "outputs": [
    {
     "data": {
      "text/html": [
       "<div>\n",
       "<style scoped>\n",
       "    .dataframe tbody tr th:only-of-type {\n",
       "        vertical-align: middle;\n",
       "    }\n",
       "\n",
       "    .dataframe tbody tr th {\n",
       "        vertical-align: top;\n",
       "    }\n",
       "\n",
       "    .dataframe thead th {\n",
       "        text-align: right;\n",
       "    }\n",
       "</style>\n",
       "<table border=\"1\" class=\"dataframe\">\n",
       "  <thead>\n",
       "    <tr style=\"text-align: right;\">\n",
       "      <th></th>\n",
       "      <th>Neg_1</th>\n",
       "      <th>Pos_2</th>\n",
       "    </tr>\n",
       "  </thead>\n",
       "  <tbody>\n",
       "    <tr>\n",
       "      <th>0</th>\n",
       "      <td>0.5</td>\n",
       "      <td>0.5</td>\n",
       "    </tr>\n",
       "    <tr>\n",
       "      <th>1</th>\n",
       "      <td>0.1</td>\n",
       "      <td>0.9</td>\n",
       "    </tr>\n",
       "    <tr>\n",
       "      <th>2</th>\n",
       "      <td>0.7</td>\n",
       "      <td>0.3</td>\n",
       "    </tr>\n",
       "    <tr>\n",
       "      <th>3</th>\n",
       "      <td>0.3</td>\n",
       "      <td>0.7</td>\n",
       "    </tr>\n",
       "    <tr>\n",
       "      <th>4</th>\n",
       "      <td>0.6</td>\n",
       "      <td>0.4</td>\n",
       "    </tr>\n",
       "  </tbody>\n",
       "</table>\n",
       "</div>"
      ],
      "text/plain": [
       "   Neg_1  Pos_2\n",
       "0    0.5    0.5\n",
       "1    0.1    0.9\n",
       "2    0.7    0.3\n",
       "3    0.3    0.7\n",
       "4    0.6    0.4"
      ]
     },
     "execution_count": 8,
     "metadata": {},
     "output_type": "execute_result"
    }
   ],
   "source": [
    "probs =pd.DataFrame(model.predict_proba(test_x),columns=['Neg_1','Pos_2'])\n",
    "probs.head()"
   ]
  },
  {
   "cell_type": "code",
   "execution_count": 9,
   "metadata": {},
   "outputs": [
    {
     "name": "stdout",
     "output_type": "stream",
     "text": [
      "cut-off  0.30, sensitivity 65.4 ,specificity 70.3\n"
     ]
    }
   ],
   "source": [
    "cut_off =0.3\n",
    "test_pred2= probs['Pos_2'].apply(lambda v:2 if v >cut_off else 1)\n",
    "tn,fp,fn,tp = confusion_matrix(test_y,test_pred2,labels=[1,2]).ravel()\n",
    "sensitivity =tp/(tp+fn)\n",
    "specificity= tn/(tn+fp)\n",
    "print('cut-off  %.2f, sensitivity %.1f ,specificity %.1f'  %(cut_off, sensitivity *100,specificity *100))"
   ]
  },
  {
   "cell_type": "markdown",
   "metadata": {},
   "source": [
    "- sensitivity - true positive rate\n",
    "- 1- specificity - false positive rate\n",
    "- 1 model 1 ROC curve"
   ]
  },
  {
   "cell_type": "code",
   "execution_count": 12,
   "metadata": {},
   "outputs": [
    {
     "data": {
      "text/plain": [
       "[<matplotlib.lines.Line2D at 0x1e7a4ea5ef0>]"
      ]
     },
     "execution_count": 12,
     "metadata": {},
     "output_type": "execute_result"
    },
    {
     "data": {
      "image/png": "[encoded data removed]",
      "text/plain": [
       "<Figure size 432x288 with 1 Axes>"
      ]
     },
     "metadata": {
      "needs_background": "light"
     },
     "output_type": "display_data"
    }
   ],
   "source": [
    "from sklearn.metrics import roc_curve\n",
    "fpr,tpr,cutoffs = roc_curve(test_y,probs['Pos_2'],pos_label=2)\n",
    "plt.plot(fpr,tpr)"
   ]
  },
  {
   "cell_type": "code",
   "execution_count": 10,
   "metadata": {},
   "outputs": [
    {
     "name": "stdout",
     "output_type": "stream",
     "text": [
      "[0.0, 0.1, 0.2, 0.30000000000000004, 0.4, 0.5, 0.6000000000000001, 0.7000000000000001, 0.8, 0.9, 1.0]\n",
      "-----\n",
      "[0.9506172839506173, 0.9012345679012346, 0.8148148148148148, 0.654320987654321, 0.48148148148148145, 0.345679012345679, 0.18518518518518517, 0.04938271604938271, 0.024691358024691357, 0.0, 0.0]\n",
      "-----\n",
      "[0.8675799086757991, 0.6621004566210046, 0.5068493150684932, 0.29680365296803657, 0.182648401826484, 0.08675799086757996, 0.04109589041095896, 0.0182648401826484, 0.013698630136986356, 0.0, 0.0]\n"
     ]
    },
    {
     "data": {
      "text/plain": [
       "[<matplotlib.lines.Line2D at 0x1e7a4dc35f8>]"
      ]
     },
     "execution_count": 10,
     "metadata": {},
     "output_type": "execute_result"
    },
    {
     "data": {
      "image/png": "[encoded data removed]",
      "text/plain": [
       "<Figure size 432x288 with 1 Axes>"
      ]
     },
     "metadata": {
      "needs_background": "light"
     },
     "output_type": "display_data"
    }
   ],
   "source": [
    "cut_offs = []\n",
    "tpr=[]\n",
    "fpr=[]\n",
    "for cut_off in np.linspace(0,1,11):\n",
    "    test_pred2= probs['Pos_2'].apply(lambda v:2 if v >cut_off else 1)\n",
    "    tn,fp,fn,tp = confusion_matrix(test_y,test_pred2,labels=[1,2]).ravel()\n",
    "    sensitivity =tp/(tp+fn)\n",
    "    specificity= tn/(tn+fp)\n",
    "    cut_offs.append(cut_off)\n",
    "    tpr.append(sensitivity)\n",
    "    fpr.append(1-specificity)\n",
    "print(cut_offs)\n",
    "print('-----')\n",
    "print(tpr)\n",
    "print('-----')\n",
    "print(fpr)\n",
    "plt.plot(fpr,tpr)"
   ]
  },
  {
   "cell_type": "code",
   "execution_count": 96,
   "metadata": {},
   "outputs": [
    {
     "data": {
      "text/html": [
       "<div>\n",
       "<style scoped>\n",
       "    .dataframe tbody tr th:only-of-type {\n",
       "        vertical-align: middle;\n",
       "    }\n",
       "\n",
       "    .dataframe tbody tr th {\n",
       "        vertical-align: top;\n",
       "    }\n",
       "\n",
       "    .dataframe thead th {\n",
       "        text-align: right;\n",
       "    }\n",
       "</style>\n",
       "<table border=\"1\" class=\"dataframe\">\n",
       "  <thead>\n",
       "    <tr style=\"text-align: right;\">\n",
       "      <th></th>\n",
       "      <th>cutoff</th>\n",
       "      <th>fpr</th>\n",
       "      <th>specificity</th>\n",
       "      <th>tpr</th>\n",
       "      <th>youden_index</th>\n",
       "    </tr>\n",
       "  </thead>\n",
       "  <tbody>\n",
       "    <tr>\n",
       "      <th>6</th>\n",
       "      <td>0.4</td>\n",
       "      <td>0.296804</td>\n",
       "      <td>0.703196</td>\n",
       "      <td>0.654321</td>\n",
       "      <td>0.357517</td>\n",
       "    </tr>\n",
       "    <tr>\n",
       "      <th>7</th>\n",
       "      <td>0.3</td>\n",
       "      <td>0.506849</td>\n",
       "      <td>0.493151</td>\n",
       "      <td>0.814815</td>\n",
       "      <td>0.307965</td>\n",
       "    </tr>\n",
       "    <tr>\n",
       "      <th>5</th>\n",
       "      <td>0.5</td>\n",
       "      <td>0.182648</td>\n",
       "      <td>0.817352</td>\n",
       "      <td>0.481481</td>\n",
       "      <td>0.298833</td>\n",
       "    </tr>\n",
       "    <tr>\n",
       "      <th>4</th>\n",
       "      <td>0.6</td>\n",
       "      <td>0.086758</td>\n",
       "      <td>0.913242</td>\n",
       "      <td>0.345679</td>\n",
       "      <td>0.258921</td>\n",
       "    </tr>\n",
       "    <tr>\n",
       "      <th>8</th>\n",
       "      <td>0.2</td>\n",
       "      <td>0.662100</td>\n",
       "      <td>0.337900</td>\n",
       "      <td>0.901235</td>\n",
       "      <td>0.239134</td>\n",
       "    </tr>\n",
       "    <tr>\n",
       "      <th>3</th>\n",
       "      <td>0.7</td>\n",
       "      <td>0.041096</td>\n",
       "      <td>0.958904</td>\n",
       "      <td>0.185185</td>\n",
       "      <td>0.144089</td>\n",
       "    </tr>\n",
       "    <tr>\n",
       "      <th>9</th>\n",
       "      <td>0.1</td>\n",
       "      <td>0.867580</td>\n",
       "      <td>0.132420</td>\n",
       "      <td>0.950617</td>\n",
       "      <td>0.083037</td>\n",
       "    </tr>\n",
       "    <tr>\n",
       "      <th>2</th>\n",
       "      <td>0.8</td>\n",
       "      <td>0.018265</td>\n",
       "      <td>0.981735</td>\n",
       "      <td>0.049383</td>\n",
       "      <td>0.031118</td>\n",
       "    </tr>\n",
       "    <tr>\n",
       "      <th>1</th>\n",
       "      <td>0.9</td>\n",
       "      <td>0.013699</td>\n",
       "      <td>0.986301</td>\n",
       "      <td>0.024691</td>\n",
       "      <td>0.010993</td>\n",
       "    </tr>\n",
       "    <tr>\n",
       "      <th>0</th>\n",
       "      <td>1.9</td>\n",
       "      <td>0.000000</td>\n",
       "      <td>1.000000</td>\n",
       "      <td>0.000000</td>\n",
       "      <td>0.000000</td>\n",
       "    </tr>\n",
       "    <tr>\n",
       "      <th>10</th>\n",
       "      <td>0.0</td>\n",
       "      <td>1.000000</td>\n",
       "      <td>0.000000</td>\n",
       "      <td>1.000000</td>\n",
       "      <td>0.000000</td>\n",
       "    </tr>\n",
       "  </tbody>\n",
       "</table>\n",
       "</div>"
      ],
      "text/plain": [
       "    cutoff       fpr  specificity       tpr  youden_index\n",
       "6      0.4  0.296804     0.703196  0.654321      0.357517\n",
       "7      0.3  0.506849     0.493151  0.814815      0.307965\n",
       "5      0.5  0.182648     0.817352  0.481481      0.298833\n",
       "4      0.6  0.086758     0.913242  0.345679      0.258921\n",
       "8      0.2  0.662100     0.337900  0.901235      0.239134\n",
       "3      0.7  0.041096     0.958904  0.185185      0.144089\n",
       "9      0.1  0.867580     0.132420  0.950617      0.083037\n",
       "2      0.8  0.018265     0.981735  0.049383      0.031118\n",
       "1      0.9  0.013699     0.986301  0.024691      0.010993\n",
       "0      1.9  0.000000     1.000000  0.000000      0.000000\n",
       "10     0.0  1.000000     0.000000  1.000000      0.000000"
      ]
     },
     "execution_count": 96,
     "metadata": {},
     "output_type": "execute_result"
    }
   ],
   "source": [
    "df_roc =pd.DataFrame({\n",
    "    'cutoff':cutoffs,\n",
    "    'fpr':fpr,\n",
    "    'tpr':tpr,\n",
    "    'specificity':1-fpr\n",
    "\n",
    "})\n",
    "df_roc['youden_index'] =df_roc['tpr']  + df_roc ['specificity'] -1\n",
    "df_roc.sort_values(by='youden_index',ascending=False)"
   ]
  },
  {
   "cell_type": "code",
   "execution_count": 98,
   "metadata": {},
   "outputs": [],
   "source": [
    "test_pred_new = probs['Pos_2'].apply(lambda v :2 if v>0.4 else 1)"
   ]
  },
  {
   "cell_type": "code",
   "execution_count": 109,
   "metadata": {
    "scrolled": true
   },
   "outputs": [
    {
     "name": "stdout",
     "output_type": "stream",
     "text": [
      "Random Forest AUC: 0.75\n",
      "Adaptive Boosting AUC: 0.74\n",
      "Decision Tree AUC: 0.65\n"
     ]
    },
    {
     "data": {
      "image/png": "[encoded data removed]",
      "text/plain": [
       "<matplotlib.figure.Figure at 0x2d90d17ffd0>"
      ]
     },
     "metadata": {},
     "output_type": "display_data"
    }
   ],
   "source": [
    "from sklearn.metrics import roc_auc_score\n",
    "from sklearn.metrics import auc\n",
    "model1 = RandomForestClassifier(random_state=100,n_estimators=1000)\n",
    "model1.fit(train_x,train_y)\n",
    "probs1 = pd.DataFrame(model1.predict_proba(test_x),columns=['Neg_1','Pos_2'])\n",
    "fpr,tpr,cutoffs = roc_curve(test_y,probs1['Pos_2'],pos_label=2)\n",
    "auc_rf =auc(fpr,tpr)\n",
    "plt.plot(fpr,tpr,color='green')\n",
    "\n",
    "print('Random Forest AUC: %.2f' % auc_rf)\n",
    "from sklearn.ensemble import AdaBoostClassifier\n",
    "model2 = AdaBoostClassifier(random_state=100)\n",
    "model2.fit(train_x,train_y)\n",
    "probs2 = pd.DataFrame(model2.predict_proba(test_x),columns=['Neg_1','Pos_2'])\n",
    "fpr,tpr,cutoffs = roc_curve(test_y,probs2['Pos_2'],pos_label=2)\n",
    "auc_ab =auc(fpr,tpr)\n",
    "plt.plot(fpr,tpr,color='red')\n",
    "\n",
    "print('Adaptive Boosting AUC: %.2f' % auc_ab)\n",
    "\n",
    "from sklearn.tree import DecisionTreeClassifier\n",
    "model3 = DecisionTreeClassifier(random_state=100,max_depth=7)\n",
    "model3.fit(train_x,train_y)\n",
    "probs3 = pd.DataFrame(model3.predict_proba(test_x),columns=['Neg_1','Pos_2'])\n",
    "fpr,tpr,cutoffs = roc_curve(test_y,probs3['Pos_2'],pos_label=2)\n",
    "auc_dt=auc(fpr,tpr)\n",
    "plt.plot(fpr,tpr,color='steelblue')\n",
    "print('Decision Tree AUC: %.2f' % auc_dt)"
   ]
  },
  {
   "cell_type": "markdown",
   "metadata": {},
   "source": [
    "# for HR data"
   ]
  },
  {
   "cell_type": "code",
   "execution_count": 166,
   "metadata": {},
   "outputs": [],
   "source": [
    "hr = pd.read_csv('HR Analytics.csv')\n",
    "hr_dummies=pd.get_dummies(hr)\n",
    "train,test =train_test_split(hr_dummies,test_size=0.3,random_state=100)\n",
    "train_y =train['Attrition']\n",
    "test_y = test['Attrition']\n",
    "train_x=train.drop('Attrition',axis=1)\n",
    "test_x=test.drop('Attrition',axis=1)"
   ]
  },
  {
   "cell_type": "code",
   "execution_count": 167,
   "metadata": {},
   "outputs": [
    {
     "name": "stdout",
     "output_type": "stream",
     "text": [
      "Random Forest AUC: 0.76\n",
      "Adaptive Boosting AUC: 0.78\n",
      "Decision Tree AUC: 0.60\n"
     ]
    },
    {
     "data": {
      "image/png": "[encoded data removed]",
      "text/plain": [
       "<matplotlib.figure.Figure at 0x2d90d182080>"
      ]
     },
     "metadata": {},
     "output_type": "display_data"
    }
   ],
   "source": [
    "from sklearn.metrics import roc_auc_score\n",
    "from sklearn.metrics import auc\n",
    "model1 = RandomForestClassifier(random_state=100,n_estimators=1000)\n",
    "model1.fit(train_x,train_y)\n",
    "probs1 = pd.DataFrame(model1.predict_proba(test_x),columns=['Neg_1','Pos_2'])\n",
    "fpr,tpr,cutoffs = roc_curve(test_y,probs1['Pos_2'],pos_label=1)\n",
    "auc_rf =auc(fpr,tpr)\n",
    "plt.plot(fpr,tpr,color='green')\n",
    "\n",
    "print('Random Forest AUC: %.2f' % auc_rf)\n",
    "from sklearn.ensemble import AdaBoostClassifier\n",
    "model2 = AdaBoostClassifier(random_state=100)\n",
    "model2.fit(train_x,train_y)\n",
    "probs2 = pd.DataFrame(model2.predict_proba(test_x),columns=['Neg_1','Pos_2'])\n",
    "fpr,tpr,cutoffs = roc_curve(test_y,probs2['Pos_2'],pos_label=1)\n",
    "auc_ab =auc(fpr,tpr)\n",
    "plt.plot(fpr,tpr,color='red')\n",
    "\n",
    "print('Adaptive Boosting AUC: %.2f' % auc_ab)\n",
    "\n",
    "from sklearn.tree import DecisionTreeClassifier\n",
    "model3 = DecisionTreeClassifier(random_state=100,max_depth=7)\n",
    "model3.fit(train_x,train_y)\n",
    "probs3 = pd.DataFrame(model3.predict_proba(test_x),columns=['Neg_1','Pos_2'])\n",
    "fpr,tpr,cutoffs = roc_curve(test_y,probs3['Pos_2'],pos_label=1)\n",
    "auc_dt=auc(fpr,tpr)\n",
    "plt.plot(fpr,tpr,color='steelblue')\n",
    "print('Decision Tree AUC: %.2f' % auc_dt)"
   ]
  },
  {
   "cell_type": "code",
   "execution_count": 168,
   "metadata": {},
   "outputs": [
    {
     "data": {
      "text/html": [
       "<div>\n",
       "<style scoped>\n",
       "    .dataframe tbody tr th:only-of-type {\n",
       "        vertical-align: middle;\n",
       "    }\n",
       "\n",
       "    .dataframe tbody tr th {\n",
       "        vertical-align: top;\n",
       "    }\n",
       "\n",
       "    .dataframe thead th {\n",
       "        text-align: right;\n",
       "    }\n",
       "</style>\n",
       "<table border=\"1\" class=\"dataframe\">\n",
       "  <thead>\n",
       "    <tr style=\"text-align: right;\">\n",
       "      <th></th>\n",
       "      <th>cutoff</th>\n",
       "      <th>sensitivity</th>\n",
       "      <th>specificity</th>\n",
       "      <th>youden_index</th>\n",
       "    </tr>\n",
       "  </thead>\n",
       "  <tbody>\n",
       "    <tr>\n",
       "      <th>55</th>\n",
       "      <td>0.492063</td>\n",
       "      <td>0.671429</td>\n",
       "      <td>0.822102</td>\n",
       "      <td>0.493531</td>\n",
       "    </tr>\n",
       "  </tbody>\n",
       "</table>\n",
       "</div>"
      ],
      "text/plain": [
       "      cutoff  sensitivity  specificity  youden_index\n",
       "55  0.492063     0.671429     0.822102      0.493531"
      ]
     },
     "execution_count": 168,
     "metadata": {},
     "output_type": "execute_result"
    }
   ],
   "source": [
    "from sklearn.ensemble import AdaBoostClassifier\n",
    "model2 = AdaBoostClassifier(random_state=100)\n",
    "model2.fit(train_x,train_y)\n",
    "probs2 = pd.DataFrame(model2.predict_proba(test_x),columns=['Neg_1','Pos_2'])\n",
    "fpr,tpr,cutoffs = roc_curve(test_y,probs2['Pos_2'],pos_label=1)\n",
    "\n",
    "auc_ab =auc(fpr,tpr)\n",
    "\n",
    "df_roc = pd.DataFrame({\n",
    "    'sensitivity': tpr,\n",
    "    'specificity': 1- fpr,\n",
    "    'cutoff': cutoffs\n",
    "})\n",
    "df_roc['youden_index'] = df_roc['sensitivity'] + df_roc['specificity'] -1\n",
    "df_roc.sort_values(by='youden_index', ascending=False).head(1)"
   ]
  },
  {
   "cell_type": "code",
   "execution_count": 169,
   "metadata": {
    "scrolled": true
   },
   "outputs": [
    {
     "name": "stdout",
     "output_type": "stream",
     "text": [
      "0.7551020408163265\n",
      "             precision    recall  f1-score   support\n",
      "\n",
      "          0       0.93      0.77      0.84       371\n",
      "          1       0.36      0.70      0.48        70\n",
      "\n",
      "avg / total       0.84      0.76      0.78       441\n",
      "\n"
     ]
    }
   ],
   "source": [
    "from sklearn.metrics import accuracy_score,classification_report\n",
    "cut_off = 0.49\n",
    "test_pred_new =probs2['Pos_2'].apply(lambda v:1 if v>cut_off else 0)\n",
    "print(accuracy_score(test_y,test_pred_new))\n",
    "print(classification_report(test_y,test_pred_new))\n"
   ]
  },
  {
   "cell_type": "markdown",
   "metadata": {},
   "source": [
    "# for Bank Data"
   ]
  },
  {
   "cell_type": "code",
   "execution_count": 155,
   "metadata": {},
   "outputs": [],
   "source": [
    "\n",
    "bank =pd.read_csv('bank-full.csv',sep=';')\n",
    "bank_temp=bank.drop('y',axis=1)\n",
    "bank_dummies=pd.get_dummies(bank_temp)\n",
    "bank_dummies['y']=bank['y']\n",
    "train,test =train_test_split(bank_dummies,test_size=0.3,random_state=100)\n",
    "train_y =train['y']\n",
    "test_y = test['y']\n",
    "train_x=train.drop('y',axis=1)\n",
    "test_x=test.drop('y',axis=1)"
   ]
  },
  {
   "cell_type": "code",
   "execution_count": 156,
   "metadata": {},
   "outputs": [
    {
     "name": "stdout",
     "output_type": "stream",
     "text": [
      "Random Forest AUC: 0.93\n",
      "Adaptive Boosting AUC: 0.91\n",
      "Decision Tree AUC: 0.86\n"
     ]
    },
    {
     "data": {
      "image/png": "[encoded data removed]",
      "text/plain": [
       "<matplotlib.figure.Figure at 0x2d90d50dcf8>"
      ]
     },
     "metadata": {},
     "output_type": "display_data"
    }
   ],
   "source": [
    "from sklearn.metrics import roc_auc_score\n",
    "from sklearn.metrics import auc\n",
    "model1 = RandomForestClassifier(random_state=100,n_estimators=1000)\n",
    "model1.fit(train_x,train_y)\n",
    "probs1 = pd.DataFrame(model1.predict_proba(test_x),columns=['Neg_1','Pos_2'])\n",
    "fpr1,tpr1,cutoffs1 = roc_curve(test_y,probs1['Pos_2'],pos_label='yes')\n",
    "auc_rf =auc(fpr1,tpr1)\n",
    "plt.plot(fpr1,tpr1,color='green')\n",
    "\n",
    "print('Random Forest AUC: %.2f' % auc_rf)\n",
    "from sklearn.ensemble import AdaBoostClassifier\n",
    "model2 = AdaBoostClassifier(random_state=100)\n",
    "model2.fit(train_x,train_y)\n",
    "probs2 = pd.DataFrame(model2.predict_proba(test_x),columns=['Neg_1','Pos_2'])\n",
    "fpr2,tpr2,cutoffs2 = roc_curve(test_y,probs2['Pos_2'],pos_label='yes')\n",
    "auc_ab =auc(fpr2,tpr2)\n",
    "plt.plot(fpr2,tpr2,color='red')\n",
    "\n",
    "print('Adaptive Boosting AUC: %.2f' % auc_ab)\n",
    "\n",
    "from sklearn.tree import DecisionTreeClassifier\n",
    "model3 = DecisionTreeClassifier(random_state=100,max_depth=7)\n",
    "model3.fit(train_x,train_y)\n",
    "probs3 = pd.DataFrame(model3.predict_proba(test_x),columns=['Neg_1','Pos_2'])\n",
    "fpr3,tpr3,cutoffs3 = roc_curve(test_y,probs3['Pos_2'],pos_label='yes')\n",
    "auc_dt=auc(fpr3,tpr3)\n",
    "plt.plot(fpr3,tpr3,color='steelblue')\n",
    "print('Decision Tree AUC: %.2f' % auc_dt)"
   ]
  },
  {
   "cell_type": "code",
   "execution_count": 157,
   "metadata": {},
   "outputs": [
    {
     "data": {
      "text/html": [
       "<div>\n",
       "<style scoped>\n",
       "    .dataframe tbody tr th:only-of-type {\n",
       "        vertical-align: middle;\n",
       "    }\n",
       "\n",
       "    .dataframe tbody tr th {\n",
       "        vertical-align: top;\n",
       "    }\n",
       "\n",
       "    .dataframe thead th {\n",
       "        text-align: right;\n",
       "    }\n",
       "</style>\n",
       "<table border=\"1\" class=\"dataframe\">\n",
       "  <thead>\n",
       "    <tr style=\"text-align: right;\">\n",
       "      <th></th>\n",
       "      <th>cutoff</th>\n",
       "      <th>sensitivity</th>\n",
       "      <th>specificity</th>\n",
       "      <th>youden_index</th>\n",
       "    </tr>\n",
       "  </thead>\n",
       "  <tbody>\n",
       "    <tr>\n",
       "      <th>663</th>\n",
       "      <td>0.125</td>\n",
       "      <td>0.908803</td>\n",
       "      <td>0.821527</td>\n",
       "      <td>0.73033</td>\n",
       "    </tr>\n",
       "  </tbody>\n",
       "</table>\n",
       "</div>"
      ],
      "text/plain": [
       "     cutoff  sensitivity  specificity  youden_index\n",
       "663   0.125     0.908803     0.821527       0.73033"
      ]
     },
     "execution_count": 157,
     "metadata": {},
     "output_type": "execute_result"
    }
   ],
   "source": [
    "df_roc = pd.DataFrame({\n",
    "    'sensitivity': tpr1,\n",
    "    'specificity': 1- fpr1,\n",
    "    'cutoff': cutoffs1\n",
    "})\n",
    "df_roc['youden_index'] = df_roc['sensitivity'] + df_roc['specificity'] -1\n",
    "df_roc.sort_values(by='youden_index', ascending=False).head(1)"
   ]
  },
  {
   "cell_type": "code",
   "execution_count": 161,
   "metadata": {},
   "outputs": [
    {
     "name": "stdout",
     "output_type": "stream",
     "text": [
      "0.8292539074019464\n",
      "             precision    recall  f1-score   support\n",
      "\n",
      "         no       0.99      0.82      0.89     11985\n",
      "        yes       0.40      0.91      0.55      1579\n",
      "\n",
      "avg / total       0.92      0.83      0.85     13564\n",
      "\n"
     ]
    }
   ],
   "source": [
    "test_pred_bank = probs1['Pos_2'].apply(lambda v: 'yes' if v>0.12 else 'no')\n",
    "print(accuracy_score(test_y,test_pred_bank))\n",
    "print(classification_report(test_y,test_pred_bank))"
   ]
  }
 ],
 "metadata": {
  "kernelspec": {
   "display_name": "Python 3",
   "language": "python",
   "name": "python3"
  },
  "language_info": {
   "codemirror_mode": {
    "name": "ipython",
    "version": 3
   },
   "file_extension": ".py",
   "mimetype": "text/x-python",
   "name": "python",
   "nbconvert_exporter": "python",
   "pygments_lexer": "ipython3",
   "version": "3.6.4"
  }
 },
 "nbformat": 4,
 "nbformat_minor": 2
}
