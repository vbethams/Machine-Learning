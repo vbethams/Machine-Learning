{
 "cells": [
  {
   "cell_type": "code",
   "execution_count": 2,
   "metadata": {},
   "outputs": [
    {
     "name": "stderr",
     "output_type": "stream",
     "text": [
      "C:\\Users\\Name\\Anaconda3\\lib\\site-packages\\sklearn\\ensemble\\weight_boosting.py:29: DeprecationWarning: numpy.core.umath_tests is an internal NumPy module and should not be imported. It will be removed in a future NumPy release.\n",
      "  from numpy.core.umath_tests import inner1d\n"
     ]
    }
   ],
   "source": [
    "import numpy as np\n",
    "import pandas as pd\n",
    "from sklearn.model_selection import train_test_split\n",
    "from sklearn.tree import DecisionTreeClassifier\n",
    "from sklearn.ensemble import RandomForestClassifier\n",
    "from sklearn.ensemble import AdaBoostClassifier\n",
    "from sklearn.metrics import confusion_matrix"
   ]
  },
  {
   "cell_type": "code",
   "execution_count": 4,
   "metadata": {},
   "outputs": [],
   "source": [
    "bank =pd.read_csv('bank-full.csv',sep=';')"
   ]
  },
  {
   "cell_type": "code",
   "execution_count": 5,
   "metadata": {},
   "outputs": [
    {
     "data": {
      "text/html": [
       "<div>\n",
       "<style scoped>\n",
       "    .dataframe tbody tr th:only-of-type {\n",
       "        vertical-align: middle;\n",
       "    }\n",
       "\n",
       "    .dataframe tbody tr th {\n",
       "        vertical-align: top;\n",
       "    }\n",
       "\n",
       "    .dataframe thead th {\n",
       "        text-align: right;\n",
       "    }\n",
       "</style>\n",
       "<table border=\"1\" class=\"dataframe\">\n",
       "  <thead>\n",
       "    <tr style=\"text-align: right;\">\n",
       "      <th></th>\n",
       "      <th>age</th>\n",
       "      <th>job</th>\n",
       "      <th>marital</th>\n",
       "      <th>education</th>\n",
       "      <th>default</th>\n",
       "      <th>balance</th>\n",
       "      <th>housing</th>\n",
       "      <th>loan</th>\n",
       "      <th>contact</th>\n",
       "      <th>day</th>\n",
       "      <th>month</th>\n",
       "      <th>duration</th>\n",
       "      <th>campaign</th>\n",
       "      <th>pdays</th>\n",
       "      <th>previous</th>\n",
       "      <th>poutcome</th>\n",
       "      <th>y</th>\n",
       "    </tr>\n",
       "  </thead>\n",
       "  <tbody>\n",
       "    <tr>\n",
       "      <th>0</th>\n",
       "      <td>58</td>\n",
       "      <td>management</td>\n",
       "      <td>married</td>\n",
       "      <td>tertiary</td>\n",
       "      <td>no</td>\n",
       "      <td>2143</td>\n",
       "      <td>yes</td>\n",
       "      <td>no</td>\n",
       "      <td>unknown</td>\n",
       "      <td>5</td>\n",
       "      <td>may</td>\n",
       "      <td>261</td>\n",
       "      <td>1</td>\n",
       "      <td>-1</td>\n",
       "      <td>0</td>\n",
       "      <td>unknown</td>\n",
       "      <td>no</td>\n",
       "    </tr>\n",
       "    <tr>\n",
       "      <th>1</th>\n",
       "      <td>44</td>\n",
       "      <td>technician</td>\n",
       "      <td>single</td>\n",
       "      <td>secondary</td>\n",
       "      <td>no</td>\n",
       "      <td>29</td>\n",
       "      <td>yes</td>\n",
       "      <td>no</td>\n",
       "      <td>unknown</td>\n",
       "      <td>5</td>\n",
       "      <td>may</td>\n",
       "      <td>151</td>\n",
       "      <td>1</td>\n",
       "      <td>-1</td>\n",
       "      <td>0</td>\n",
       "      <td>unknown</td>\n",
       "      <td>no</td>\n",
       "    </tr>\n",
       "    <tr>\n",
       "      <th>2</th>\n",
       "      <td>33</td>\n",
       "      <td>entrepreneur</td>\n",
       "      <td>married</td>\n",
       "      <td>secondary</td>\n",
       "      <td>no</td>\n",
       "      <td>2</td>\n",
       "      <td>yes</td>\n",
       "      <td>yes</td>\n",
       "      <td>unknown</td>\n",
       "      <td>5</td>\n",
       "      <td>may</td>\n",
       "      <td>76</td>\n",
       "      <td>1</td>\n",
       "      <td>-1</td>\n",
       "      <td>0</td>\n",
       "      <td>unknown</td>\n",
       "      <td>no</td>\n",
       "    </tr>\n",
       "    <tr>\n",
       "      <th>3</th>\n",
       "      <td>47</td>\n",
       "      <td>blue-collar</td>\n",
       "      <td>married</td>\n",
       "      <td>unknown</td>\n",
       "      <td>no</td>\n",
       "      <td>1506</td>\n",
       "      <td>yes</td>\n",
       "      <td>no</td>\n",
       "      <td>unknown</td>\n",
       "      <td>5</td>\n",
       "      <td>may</td>\n",
       "      <td>92</td>\n",
       "      <td>1</td>\n",
       "      <td>-1</td>\n",
       "      <td>0</td>\n",
       "      <td>unknown</td>\n",
       "      <td>no</td>\n",
       "    </tr>\n",
       "    <tr>\n",
       "      <th>4</th>\n",
       "      <td>33</td>\n",
       "      <td>unknown</td>\n",
       "      <td>single</td>\n",
       "      <td>unknown</td>\n",
       "      <td>no</td>\n",
       "      <td>1</td>\n",
       "      <td>no</td>\n",
       "      <td>no</td>\n",
       "      <td>unknown</td>\n",
       "      <td>5</td>\n",
       "      <td>may</td>\n",
       "      <td>198</td>\n",
       "      <td>1</td>\n",
       "      <td>-1</td>\n",
       "      <td>0</td>\n",
       "      <td>unknown</td>\n",
       "      <td>no</td>\n",
       "    </tr>\n",
       "  </tbody>\n",
       "</table>\n",
       "</div>"
      ],
      "text/plain": [
       "   age           job  marital  education default  balance housing loan  \\\n",
       "0   58    management  married   tertiary      no     2143     yes   no   \n",
       "1   44    technician   single  secondary      no       29     yes   no   \n",
       "2   33  entrepreneur  married  secondary      no        2     yes  yes   \n",
       "3   47   blue-collar  married    unknown      no     1506     yes   no   \n",
       "4   33       unknown   single    unknown      no        1      no   no   \n",
       "\n",
       "   contact  day month  duration  campaign  pdays  previous poutcome   y  \n",
       "0  unknown    5   may       261         1     -1         0  unknown  no  \n",
       "1  unknown    5   may       151         1     -1         0  unknown  no  \n",
       "2  unknown    5   may        76         1     -1         0  unknown  no  \n",
       "3  unknown    5   may        92         1     -1         0  unknown  no  \n",
       "4  unknown    5   may       198         1     -1         0  unknown  no  "
      ]
     },
     "execution_count": 5,
     "metadata": {},
     "output_type": "execute_result"
    }
   ],
   "source": [
    "bank.head()"
   ]
  },
  {
   "cell_type": "code",
   "execution_count": 46,
   "metadata": {},
   "outputs": [
    {
     "data": {
      "text/plain": [
       "87.72485992332645"
      ]
     },
     "execution_count": 46,
     "metadata": {},
     "output_type": "execute_result"
    }
   ],
   "source": [
    "bank =pd.read_csv('bank-full.csv',sep=';')\n",
    "bank_temp=bank.drop('y',axis=1)\n",
    "bank_dummies=pd.get_dummies(bank_temp)\n",
    "bank_dummies['y']=bank['y']\n",
    "train,test =train_test_split(bank_dummies,test_size=0.3,random_state=100)\n",
    "train_y =train['y']\n",
    "test_y = test['y']\n",
    "train_x=train.drop('y',axis=1)\n",
    "test_x=test.drop('y',axis=1)\n",
    "model = DecisionTreeClassifier(random_state=100)\n",
    "model.fit(train_x,train_y)\n",
    "test_pred = model.predict(test_x)\n",
    "df_pred = pd.DataFrame({'actual':test_y,'predicted':test_pred})\n",
    "df_pred['pred_status']=df_pred['actual'] ==df_pred['predicted']\n",
    "dt_accuracy=df_pred[df_pred['pred_status']==True].shape[0] / df_pred.shape[0] *100\n",
    "dt_accuracy"
   ]
  },
  {
   "cell_type": "code",
   "execution_count": 11,
   "metadata": {},
   "outputs": [
    {
     "name": "stdout",
     "output_type": "stream",
     "text": [
      "true positive:775\n",
      "true negative:11124\n",
      "false positive:861\n",
      "false negative:804\n"
     ]
    }
   ],
   "source": [
    "tp =df_pred[(df_pred['predicted']=='yes') &(df_pred['actual']=='yes')].shape[0]\n",
    "tn =df_pred[(df_pred['predicted']=='no') &(df_pred['actual']=='no')].shape[0]\n",
    "fp =df_pred[(df_pred['predicted']=='yes') &(df_pred['actual']=='no')].shape[0]\n",
    "fn=df_pred[(df_pred['predicted']=='no') &(df_pred['actual']=='yes')].shape[0]\n",
    "print(\"true positive:%d\" %tp)\n",
    "print(\"true negative:%d\" %tn)\n",
    "print(\"false positive:%d\" %fp)\n",
    "print(\"false negative:%d\" %fn)"
   ]
  },
  {
   "cell_type": "code",
   "execution_count": 17,
   "metadata": {},
   "outputs": [
    {
     "data": {
      "text/plain": [
       "49.08169727675744"
      ]
     },
     "execution_count": 17,
     "metadata": {},
     "output_type": "execute_result"
    }
   ],
   "source": [
    "dt_sensitivity = (tp/(tp+fn)) *100\n",
    "dt_sensitivity"
   ]
  },
  {
   "cell_type": "code",
   "execution_count": 18,
   "metadata": {},
   "outputs": [
    {
     "data": {
      "text/plain": [
       "92.81602002503129"
      ]
     },
     "execution_count": 18,
     "metadata": {},
     "output_type": "execute_result"
    }
   ],
   "source": [
    "dt_specificity = (tn/(tn+fp)) *100\n",
    "dt_specificity"
   ]
  },
  {
   "cell_type": "code",
   "execution_count": 22,
   "metadata": {},
   "outputs": [
    {
     "data": {
      "text/plain": [
       "89.97345915659098"
      ]
     },
     "execution_count": 22,
     "metadata": {},
     "output_type": "execute_result"
    }
   ],
   "source": [
    "model_rf = RandomForestClassifier(random_state=100)\n",
    "model_rf.fit(train_x,train_y)\n",
    "test_pred = model_rf.predict(test_x)\n",
    "df_pred_rf= pd.DataFrame({'actual':test_y,'predicted':test_pred})\n",
    "df_pred_rf['pred_status']=df_pred_rf['actual'] ==df_pred_rf['predicted']\n",
    "rf_accuracy =df_pred_rf[df_pred_rf['pred_status']==True].shape[0] / df_pred_rf.shape[0] *100\n",
    "rf_accuracy"
   ]
  },
  {
   "cell_type": "code",
   "execution_count": 23,
   "metadata": {},
   "outputs": [
    {
     "name": "stdout",
     "output_type": "stream",
     "text": [
      "true positive:561\n",
      "true negative:11643\n",
      "false positive:342\n",
      "false negative:1018\n"
     ]
    }
   ],
   "source": [
    "tp_rf =df_pred_rf[(df_pred_rf['predicted']=='yes') &(df_pred_rf['actual']=='yes')].shape[0]\n",
    "tn_rf =df_pred_rf[(df_pred_rf['predicted']=='no') &(df_pred_rf['actual']=='no')].shape[0]\n",
    "fp_rf =df_pred_rf[(df_pred_rf['predicted']=='yes') &(df_pred_rf['actual']=='no')].shape[0]\n",
    "fn_rf=df_pred_rf[(df_pred_rf['predicted']=='no') &(df_pred_rf['actual']=='yes')].shape[0]\n",
    "print(\"true positive:%d\" %tp_rf)\n",
    "print(\"true negative:%d\" %tn_rf)\n",
    "print(\"false positive:%d\" %fp_rf)\n",
    "print(\"false negative:%d\" %fn_rf)"
   ]
  },
  {
   "cell_type": "code",
   "execution_count": 24,
   "metadata": {},
   "outputs": [
    {
     "data": {
      "text/plain": [
       "35.52881570614313"
      ]
     },
     "execution_count": 24,
     "metadata": {},
     "output_type": "execute_result"
    }
   ],
   "source": [
    "rf_sensitivity = (tp_rf/(tp_rf+fn_rf)) *100\n",
    "rf_sensitivity"
   ]
  },
  {
   "cell_type": "code",
   "execution_count": 25,
   "metadata": {},
   "outputs": [
    {
     "data": {
      "text/plain": [
       "97.14643304130163"
      ]
     },
     "execution_count": 25,
     "metadata": {},
     "output_type": "execute_result"
    }
   ],
   "source": [
    "rf_specificity = (tn_rf/(tn_rf+fp_rf)) *100\n",
    "rf_specificity"
   ]
  },
  {
   "cell_type": "code",
   "execution_count": 38,
   "metadata": {},
   "outputs": [
    {
     "data": {
      "text/plain": [
       "89.72279563550575"
      ]
     },
     "execution_count": 38,
     "metadata": {},
     "output_type": "execute_result"
    }
   ],
   "source": [
    "model_ab = AdaBoostClassifier(random_state=100)\n",
    "model_ab.fit(train_x,train_y)\n",
    "\n",
    "test_pred =model_ab.predict(test_x)\n",
    "df_pred_ab= pd.DataFrame({'actual':test_y,'predicted':test_pred})\n",
    "df_pred_ab['pred_status']=df_pred_ab['actual'] ==df_pred_ab['predicted']\n",
    "ab_accuracy =df_pred_ab[df_pred_ab['pred_status']==True].shape[0] / df_pred_ab.shape[0] *100\n",
    "ab_accuracy\n"
   ]
  },
  {
   "cell_type": "code",
   "execution_count": 39,
   "metadata": {},
   "outputs": [
    {
     "data": {
      "text/plain": [
       "(11585, 400, 994, 585)"
      ]
     },
     "execution_count": 39,
     "metadata": {},
     "output_type": "execute_result"
    }
   ],
   "source": [
    "tn_ab,fp_ab,fn_ab,tp_ab = confusion_matrix(df_pred_ab['actual'],df_pred_ab['predicted']).ravel()\n",
    "tn_ab,fp_ab,fn_ab,tp_ab"
   ]
  },
  {
   "cell_type": "code",
   "execution_count": 40,
   "metadata": {},
   "outputs": [],
   "source": [
    "ab_sensitivity =tp_ab/(tp_ab+fn_ab)  * 100"
   ]
  },
  {
   "cell_type": "code",
   "execution_count": 41,
   "metadata": {},
   "outputs": [],
   "source": [
    "ab_specificity =tn_ab/(tn_ab+fp_ab) *100"
   ]
  },
  {
   "cell_type": "code",
   "execution_count": 42,
   "metadata": {},
   "outputs": [
    {
     "name": "stdout",
     "output_type": "stream",
     "text": [
      "             Adaptive Boosting  Decision_Tree  Random_Forest\n",
      "Accuracy             89.722796      87.724860      89.973459\n",
      "Sensitivity          37.048765      49.081697      35.528816\n",
      "Specificity          96.662495      92.816020      97.146433\n",
      "tp                  585.000000     775.000000     561.000000\n",
      "fn                11585.000000   11124.000000   11643.000000\n",
      "fp                  400.000000     861.000000     342.000000\n",
      "fn                  994.000000     804.000000    1018.000000\n"
     ]
    }
   ],
   "source": [
    "model_dict={\"Decision_Tree\":pd.Series([dt_accuracy,dt_sensitivity,dt_specificity,tp,tn,fp,fn]),\n",
    "            \"Random_Forest\":pd.Series([rf_accuracy,rf_sensitivity,rf_specificity,tp_rf,tn_rf,fp_rf,fn_rf]),\n",
    "             \"Adaptive Boosting\":pd.Series([ab_accuracy,ab_sensitivity,ab_specificity,tp_ab,tn_ab,fp_ab,fn_ab])}\n",
    "model_df = pd.DataFrame(model_dict)\n",
    "model_df.index=[\"Accuracy\",\"Sensitivity\",\"Specificity\",\"tp\",\"fn\",\"fp\",\"fn\"]\n",
    "print(model_df)"
   ]
  },
  {
   "cell_type": "markdown",
   "metadata": {},
   "source": [
    "# machine learning steps\n",
    "- read the data\n",
    "- check the output column datatype\n",
    "  -  if the output data type is integer dont do anything,if it is object drop it temporarily\n",
    "- send the temporary data to dummies\n",
    "- it will convert it into all numeric columns\n",
    "- now concat the dropped column\n",
    "- now split the data into train and test \n",
    "- now send all the input columns into trian_x,test_x\n",
    "- all output columns into train_y,test_y\n",
    "- now build the model\n",
    "- send both train_x and train_y to it i.e both input and output\n",
    "- to predict values send test input data i.e test_x\n",
    "- after getting the values compare with the actual values and create a data frame\n",
    "- calculate the accuracy i.e tp+tn/(tp_tn+fp+fn) or number of true predictions/number of total values\n",
    "- using confusion matrix find tp,tn,fp,fn\n",
    "- calculate both specificity,sensitivity\n"
   ]
  },
  {
   "cell_type": "markdown",
   "metadata": {},
   "source": [
    "# Gini Impurity steps\n",
    "- check the overall gini impurity by dividing the values in output columns\n",
    "- check: 1- np.square(p(1))- np.square(p(0)) i.e p(1)= number of 1s/number of total rows\n",
    "- now see for which column we get the gini impurity less by using that column as first decision tree\n",
    "- if we use gender_female column then calculate the gini_right and gini_left and combine the gini overall see \n",
    "  if it is less than giniwhole\n",
    "- like that check for all columns see which column gives gini impurity less that is the column used by model for classification"
   ]
  }
 ],
 "metadata": {
  "kernelspec": {
   "display_name": "Python 3",
   "language": "python",
   "name": "python3"
  },
  "language_info": {
   "codemirror_mode": {
    "name": "ipython",
    "version": 3
   },
   "file_extension": ".py",
   "mimetype": "text/x-python",
   "name": "python",
   "nbconvert_exporter": "python",
   "pygments_lexer": "ipython3",
   "version": "3.6.4"
  }
 },
 "nbformat": 4,
 "nbformat_minor": 2
}
