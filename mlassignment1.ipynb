{
 "cells": [
  {
   "cell_type": "code",
   "execution_count": 123,
   "metadata": {},
   "outputs": [],
   "source": [
    "import numpy as np\n",
    "import pandas as pd\n",
    "from sklearn.model_selection import train_test_split\n",
    "from sklearn.tree import DecisionTreeClassifier\n",
    "from sklearn.ensemble import RandomForestClassifier\n",
    "from sklearn.ensemble import AdaBoostClassifier\n",
    "from sklearn.metrics import confusion_matrix\n",
    "from sklearn.metrics import roc_auc_score\n",
    "from sklearn.metrics import auc\n",
    "import matplotlib.pyplot as plt\n",
    "from sklearn.metrics import accuracy_score,classification_report\n",
    "from sklearn.neighbors import KNeighborsClassifier "
   ]
  },
  {
   "cell_type": "markdown",
   "metadata": {},
   "source": [
    "# First Question"
   ]
  },
  {
   "cell_type": "code",
   "execution_count": 124,
   "metadata": {},
   "outputs": [],
   "source": [
    "bank =pd.read_csv('bank-full.csv',sep=';')\n",
    "bank_temp=bank.drop('y',axis=1)\n",
    "bank_dummies=pd.get_dummies(bank_temp)\n",
    "bank_dummies['y']=bank['y']\n",
    "train,test =train_test_split(bank_dummies,test_size=0.3,random_state=100)\n",
    "train_y =train['y']\n",
    "test_y = test['y']\n",
    "train_x=train.drop('y',axis=1)\n",
    "test_x=test.drop('y',axis=1)\n",
    "from sklearn.preprocessing import StandardScaler\n",
    "scaler = StandardScaler()\n",
    "scaler.fit(train_x)\n",
    "train_x_scaled = pd.DataFrame(scaler.transform(train_x),columns=train_x.columns)\n",
    "test_x_scaled=pd.DataFrame(scaler.transform(test_x),columns=test_x.columns)"
   ]
  },
  {
   "cell_type": "code",
   "execution_count": 125,
   "metadata": {},
   "outputs": [
    {
     "data": {
      "text/plain": [
       "87.72485992332645"
      ]
     },
     "execution_count": 125,
     "metadata": {},
     "output_type": "execute_result"
    }
   ],
   "source": [
    "model = DecisionTreeClassifier(random_state=100)\n",
    "model.fit(train_x,train_y)\n",
    "test_pred = model.predict(test_x)\n",
    "df_pred = pd.DataFrame({'actual':test_y,'predicted':test_pred})\n",
    "df_pred['pred_status']=df_pred['actual'] ==df_pred['predicted']\n",
    "dt_accuracy=df_pred[df_pred['pred_status']==True].shape[0] / df_pred.shape[0] *100\n",
    "dt_accuracy"
   ]
  },
  {
   "cell_type": "code",
   "execution_count": 126,
   "metadata": {},
   "outputs": [
    {
     "name": "stdout",
     "output_type": "stream",
     "text": [
      "true positive:775\n",
      "true negative:11124\n",
      "false positive:861\n",
      "false negative:804\n"
     ]
    }
   ],
   "source": [
    "tp =df_pred[(df_pred['predicted']=='yes') &(df_pred['actual']=='yes')].shape[0]\n",
    "tn =df_pred[(df_pred['predicted']=='no') &(df_pred['actual']=='no')].shape[0]\n",
    "fp =df_pred[(df_pred['predicted']=='yes') &(df_pred['actual']=='no')].shape[0]\n",
    "fn=df_pred[(df_pred['predicted']=='no') &(df_pred['actual']=='yes')].shape[0]\n",
    "print(\"true positive:%d\" %tp)\n",
    "print(\"true negative:%d\" %tn)\n",
    "print(\"false positive:%d\" %fp)\n",
    "print(\"false negative:%d\" %fn)"
   ]
  },
  {
   "cell_type": "code",
   "execution_count": 127,
   "metadata": {},
   "outputs": [
    {
     "data": {
      "text/plain": [
       "49.08169727675744"
      ]
     },
     "execution_count": 127,
     "metadata": {},
     "output_type": "execute_result"
    }
   ],
   "source": [
    "dt_sensitivity = (tp/(tp+fn)) *100\n",
    "dt_sensitivity"
   ]
  },
  {
   "cell_type": "code",
   "execution_count": 128,
   "metadata": {},
   "outputs": [
    {
     "data": {
      "text/plain": [
       "92.81602002503129"
      ]
     },
     "execution_count": 128,
     "metadata": {},
     "output_type": "execute_result"
    }
   ],
   "source": [
    "dt_specificity = (tn/(tn+fp)) *100\n",
    "dt_specificity"
   ]
  },
  {
   "cell_type": "code",
   "execution_count": 129,
   "metadata": {},
   "outputs": [
    {
     "data": {
      "text/plain": [
       "89.97345915659098"
      ]
     },
     "execution_count": 129,
     "metadata": {},
     "output_type": "execute_result"
    }
   ],
   "source": [
    "model_rf = RandomForestClassifier(random_state=100)\n",
    "model_rf.fit(train_x,train_y)\n",
    "test_pred = model_rf.predict(test_x)\n",
    "df_pred_rf= pd.DataFrame({'actual':test_y,'predicted':test_pred})\n",
    "df_pred_rf['pred_status']=df_pred_rf['actual'] ==df_pred_rf['predicted']\n",
    "rf_accuracy =df_pred_rf[df_pred_rf['pred_status']==True].shape[0] / df_pred_rf.shape[0] *100\n",
    "rf_accuracy"
   ]
  },
  {
   "cell_type": "code",
   "execution_count": 130,
   "metadata": {},
   "outputs": [
    {
     "name": "stdout",
     "output_type": "stream",
     "text": [
      "true positive:561\n",
      "true negative:11643\n",
      "false positive:342\n",
      "false negative:1018\n"
     ]
    }
   ],
   "source": [
    "tp_rf =df_pred_rf[(df_pred_rf['predicted']=='yes') &(df_pred_rf['actual']=='yes')].shape[0]\n",
    "tn_rf =df_pred_rf[(df_pred_rf['predicted']=='no') &(df_pred_rf['actual']=='no')].shape[0]\n",
    "fp_rf =df_pred_rf[(df_pred_rf['predicted']=='yes') &(df_pred_rf['actual']=='no')].shape[0]\n",
    "fn_rf=df_pred_rf[(df_pred_rf['predicted']=='no') &(df_pred_rf['actual']=='yes')].shape[0]\n",
    "print(\"true positive:%d\" %tp_rf)\n",
    "print(\"true negative:%d\" %tn_rf)\n",
    "print(\"false positive:%d\" %fp_rf)\n",
    "print(\"false negative:%d\" %fn_rf)"
   ]
  },
  {
   "cell_type": "code",
   "execution_count": 131,
   "metadata": {},
   "outputs": [
    {
     "data": {
      "text/plain": [
       "35.52881570614313"
      ]
     },
     "execution_count": 131,
     "metadata": {},
     "output_type": "execute_result"
    }
   ],
   "source": [
    "rf_sensitivity = (tp_rf/(tp_rf+fn_rf)) *100\n",
    "rf_sensitivity"
   ]
  },
  {
   "cell_type": "code",
   "execution_count": 132,
   "metadata": {},
   "outputs": [
    {
     "data": {
      "text/plain": [
       "97.14643304130163"
      ]
     },
     "execution_count": 132,
     "metadata": {},
     "output_type": "execute_result"
    }
   ],
   "source": [
    "rf_specificity = (tn_rf/(tn_rf+fp_rf)) *100\n",
    "rf_specificity"
   ]
  },
  {
   "cell_type": "code",
   "execution_count": 133,
   "metadata": {},
   "outputs": [
    {
     "data": {
      "text/plain": [
       "89.72279563550575"
      ]
     },
     "execution_count": 133,
     "metadata": {},
     "output_type": "execute_result"
    }
   ],
   "source": [
    "model_ab = AdaBoostClassifier(random_state=100)\n",
    "model_ab.fit(train_x,train_y)\n",
    "\n",
    "test_pred =model_ab.predict(test_x)\n",
    "df_pred_ab= pd.DataFrame({'actual':test_y,'predicted':test_pred})\n",
    "df_pred_ab['pred_status']=df_pred_ab['actual'] ==df_pred_ab['predicted']\n",
    "ab_accuracy =df_pred_ab[df_pred_ab['pred_status']==True].shape[0] / df_pred_ab.shape[0] *100\n",
    "ab_accuracy\n"
   ]
  },
  {
   "cell_type": "code",
   "execution_count": 134,
   "metadata": {},
   "outputs": [
    {
     "data": {
      "text/plain": [
       "(11585, 400, 994, 585)"
      ]
     },
     "execution_count": 134,
     "metadata": {},
     "output_type": "execute_result"
    }
   ],
   "source": [
    "tn_ab,fp_ab,fn_ab,tp_ab = confusion_matrix(df_pred_ab['actual'],df_pred_ab['predicted']).ravel()\n",
    "tn_ab,fp_ab,fn_ab,tp_ab"
   ]
  },
  {
   "cell_type": "code",
   "execution_count": 135,
   "metadata": {},
   "outputs": [],
   "source": [
    "ab_sensitivity =tp_ab/(tp_ab+fn_ab)  * 100"
   ]
  },
  {
   "cell_type": "code",
   "execution_count": 136,
   "metadata": {},
   "outputs": [],
   "source": [
    "ab_specificity =tn_ab/(tn_ab+fp_ab) *100"
   ]
  },
  {
   "cell_type": "code",
   "execution_count": 137,
   "metadata": {},
   "outputs": [
    {
     "data": {
      "text/plain": [
       "89.28782070185785"
      ]
     },
     "execution_count": 137,
     "metadata": {},
     "output_type": "execute_result"
    }
   ],
   "source": [
    "model_knn = KNeighborsClassifier()\n",
    "model_knn.fit(train_x_scaled,train_y)\n",
    "test_pred = model_knn.predict(test_x_scaled)\n",
    "df_pred_knn = pd.DataFrame({'actual':test_y,'predicted':test_pred})\n",
    "df_pred_knn['pred_status'] = df_pred_knn['actual'] == df_pred_knn['predicted']\n",
    "knn_accuracy=df_pred_knn['pred_status'].sum()/df_pred_knn.shape[0] *100\n",
    "knn_accuracy"
   ]
  },
  {
   "cell_type": "code",
   "execution_count": 138,
   "metadata": {},
   "outputs": [
    {
     "data": {
      "text/plain": [
       "(11590, 395, 1058, 521)"
      ]
     },
     "execution_count": 138,
     "metadata": {},
     "output_type": "execute_result"
    }
   ],
   "source": [
    "tn_knn,fp_knn,fn_knn,tp_knn = confusion_matrix(df_pred_knn['actual'],df_pred_knn['predicted']).ravel()\n",
    "tn_knn,fp_knn,fn_knn,tp_knn"
   ]
  },
  {
   "cell_type": "code",
   "execution_count": 139,
   "metadata": {},
   "outputs": [],
   "source": [
    "knn_sensitivity = tp_knn/(tp_knn+fn_knn)*100\n",
    "knn_specificity = tn_knn/(tn_knn+fp_knn)*100"
   ]
  },
  {
   "cell_type": "code",
   "execution_count": 140,
   "metadata": {},
   "outputs": [
    {
     "name": "stdout",
     "output_type": "stream",
     "text": [
      "             Adaptive Boosting  Decision_Tree  Knn Algorithm  Random_Forest\n",
      "Accuracy             89.722796      87.724860      89.287821      89.973459\n",
      "Sensitivity          37.048765      49.081697      32.995567      35.528816\n",
      "Specificity          96.662495      92.816020      96.704214      97.146433\n",
      "tp                  585.000000     775.000000     521.000000     561.000000\n",
      "fn                11585.000000   11124.000000   11590.000000   11643.000000\n",
      "fp                  400.000000     861.000000     395.000000     342.000000\n",
      "fn                  994.000000     804.000000    1058.000000    1018.000000\n"
     ]
    }
   ],
   "source": [
    "model_dict={\"Decision_Tree\":pd.Series([dt_accuracy,dt_sensitivity,dt_specificity,tp,tn,fp,fn]),\n",
    "            \"Random_Forest\":pd.Series([rf_accuracy,rf_sensitivity,rf_specificity,tp_rf,tn_rf,fp_rf,fn_rf]),\n",
    "             \"Adaptive Boosting\":pd.Series([ab_accuracy,ab_sensitivity,ab_specificity,tp_ab,tn_ab,fp_ab,fn_ab]),\n",
    "             \"Knn Algorithm\":pd.Series([knn_accuracy,knn_sensitivity,knn_specificity,tp_knn,tn_knn,fp_knn,fn_knn])}\n",
    "model_df = pd.DataFrame(model_dict)\n",
    "model_df.index=[\"Accuracy\",\"Sensitivity\",\"Specificity\",\"tp\",\"fn\",\"fp\",\"fn\"]\n",
    "print(model_df)"
   ]
  },
  {
   "cell_type": "markdown",
   "metadata": {},
   "source": [
    "# Second Question"
   ]
  },
  {
   "cell_type": "code",
   "execution_count": 172,
   "metadata": {},
   "outputs": [],
   "source": [
    "from sklearn.metrics.pairwise import euclidean_distances"
   ]
  },
  {
   "cell_type": "code",
   "execution_count": 173,
   "metadata": {},
   "outputs": [],
   "source": [
    "iris = pd.read_csv('iris.csv')"
   ]
  },
  {
   "cell_type": "code",
   "execution_count": 105,
   "metadata": {},
   "outputs": [
    {
     "data": {
      "text/html": [
       "<div>\n",
       "<style scoped>\n",
       "    .dataframe tbody tr th:only-of-type {\n",
       "        vertical-align: middle;\n",
       "    }\n",
       "\n",
       "    .dataframe tbody tr th {\n",
       "        vertical-align: top;\n",
       "    }\n",
       "\n",
       "    .dataframe thead th {\n",
       "        text-align: right;\n",
       "    }\n",
       "</style>\n",
       "<table border=\"1\" class=\"dataframe\">\n",
       "  <thead>\n",
       "    <tr style=\"text-align: right;\">\n",
       "      <th></th>\n",
       "      <th>Sepal.Length</th>\n",
       "      <th>Sepal.Width</th>\n",
       "      <th>Petal.Length</th>\n",
       "      <th>Petal.Width</th>\n",
       "      <th>Species</th>\n",
       "    </tr>\n",
       "  </thead>\n",
       "  <tbody>\n",
       "    <tr>\n",
       "      <th>0</th>\n",
       "      <td>5.1</td>\n",
       "      <td>3.5</td>\n",
       "      <td>1.4</td>\n",
       "      <td>0.2</td>\n",
       "      <td>setosa</td>\n",
       "    </tr>\n",
       "    <tr>\n",
       "      <th>1</th>\n",
       "      <td>4.9</td>\n",
       "      <td>3.0</td>\n",
       "      <td>1.4</td>\n",
       "      <td>0.2</td>\n",
       "      <td>setosa</td>\n",
       "    </tr>\n",
       "    <tr>\n",
       "      <th>2</th>\n",
       "      <td>4.7</td>\n",
       "      <td>3.2</td>\n",
       "      <td>1.3</td>\n",
       "      <td>0.2</td>\n",
       "      <td>setosa</td>\n",
       "    </tr>\n",
       "    <tr>\n",
       "      <th>3</th>\n",
       "      <td>4.6</td>\n",
       "      <td>3.1</td>\n",
       "      <td>1.5</td>\n",
       "      <td>0.2</td>\n",
       "      <td>setosa</td>\n",
       "    </tr>\n",
       "    <tr>\n",
       "      <th>4</th>\n",
       "      <td>5.0</td>\n",
       "      <td>3.6</td>\n",
       "      <td>1.4</td>\n",
       "      <td>0.2</td>\n",
       "      <td>setosa</td>\n",
       "    </tr>\n",
       "  </tbody>\n",
       "</table>\n",
       "</div>"
      ],
      "text/plain": [
       "   Sepal.Length  Sepal.Width  Petal.Length  Petal.Width Species\n",
       "0           5.1          3.5           1.4          0.2  setosa\n",
       "1           4.9          3.0           1.4          0.2  setosa\n",
       "2           4.7          3.2           1.3          0.2  setosa\n",
       "3           4.6          3.1           1.5          0.2  setosa\n",
       "4           5.0          3.6           1.4          0.2  setosa"
      ]
     },
     "execution_count": 105,
     "metadata": {},
     "output_type": "execute_result"
    }
   ],
   "source": [
    "iris.head()"
   ]
  },
  {
   "cell_type": "code",
   "execution_count": 174,
   "metadata": {},
   "outputs": [],
   "source": [
    "train,test =train_test_split(iris,test_size=0.3,random_state=100)\n",
    "train_y =train['Species']\n",
    "test_y = test['Species']\n",
    "train_x=train.drop('Species',axis=1)\n",
    "test_x=test.drop('Species',axis=1)\n",
    "from sklearn.preprocessing import StandardScaler\n",
    "scaler = StandardScaler()\n",
    "scaler.fit(train_x)\n",
    "train_x_scaled = pd.DataFrame(scaler.transform(train_x),columns=train_x.columns)\n",
    "test_x_scaled=pd.DataFrame(scaler.transform(test_x),columns=test_x.columns)"
   ]
  },
  {
   "cell_type": "code",
   "execution_count": 179,
   "metadata": {},
   "outputs": [
    {
     "name": "stdout",
     "output_type": "stream",
     "text": [
      "virginica\n"
     ]
    }
   ],
   "source": [
    "df_knn = pd.DataFrame(euclidean_distances(test_x_scaled.head(1),train_x_scaled).flatten(),index=train_x.index,columns=['ed'])\n",
    "value=train_y.loc[df_knn.sort_values('ed').head().index].value_counts().head(1).index.tolist()[0]\n",
    "print(value)"
   ]
  },
  {
   "cell_type": "markdown",
   "metadata": {},
   "source": [
    "# Third Question"
   ]
  },
  {
   "cell_type": "markdown",
   "metadata": {},
   "source": [
    "- https://www.kaggle.com/ravindravenkat/digitrecogniserravindra"
   ]
  },
  {
   "cell_type": "code",
   "execution_count": 122,
   "metadata": {},
   "outputs": [
    {
     "data": {
      "image/png": "[encoded data removed]",
      "text/plain": [
       "<IPython.core.display.Image object>"
      ]
     },
     "execution_count": 122,
     "metadata": {},
     "output_type": "execute_result"
    }
   ],
   "source": [
    "from IPython.display import Image\n",
    "Image(filename='kagglefinal.png')"
   ]
  }
 ],
 "metadata": {
  "kernelspec": {
   "display_name": "Python 3",
   "language": "python",
   "name": "python3"
  },
  "language_info": {
   "codemirror_mode": {
    "name": "ipython",
    "version": 3
   },
   "file_extension": ".py",
   "mimetype": "text/x-python",
   "name": "python",
   "nbconvert_exporter": "python",
   "pygments_lexer": "ipython3",
   "version": "3.6.4"
  }
 },
 "nbformat": 4,
 "nbformat_minor": 2
}
