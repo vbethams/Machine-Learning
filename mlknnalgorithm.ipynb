{
 "cells": [
  {
   "cell_type": "markdown",
   "metadata": {},
   "source": [
    "# K - Nearest Neighbour"
   ]
  },
  {
   "cell_type": "markdown",
   "metadata": {},
   "source": [
    "- input columns should be numeric\n",
    "- for predicting one value in test data we will calculate the distance between the neighbours\n",
    "- we will pick the value that is having the highest percentage value\n",
    "- It is also called lazy learner since it doesn't do anything on train data and entirely dependent on test data and waiting time   is more\n"
   ]
  },
  {
   "cell_type": "code",
   "execution_count": 1,
   "metadata": {},
   "outputs": [],
   "source": [
    "import numpy as np\n",
    "import pandas as pd\n",
    "from sklearn.model_selection import train_test_split\n",
    "from sklearn.metrics import confusion_matrix\n",
    "from sklearn.metrics.pairwise import euclidean_distances\n",
    "from sklearn.preprocessing import StandardScaler"
   ]
  },
  {
   "cell_type": "code",
   "execution_count": 3,
   "metadata": {},
   "outputs": [
    {
     "data": {
      "text/plain": [
       "Index(['Sepal.Length', 'Sepal.Width', 'Petal.Length', 'Petal.Width',\n",
       "       'Species'],\n",
       "      dtype='object')"
      ]
     },
     "execution_count": 3,
     "metadata": {},
     "output_type": "execute_result"
    }
   ],
   "source": [
    "iris = pd.read_csv('iris.csv')\n",
    "iris.columns"
   ]
  },
  {
   "cell_type": "code",
   "execution_count": 4,
   "metadata": {},
   "outputs": [],
   "source": [
    "iris[['Sepal.Length', 'Sepal.Width', 'Petal.Length',\n",
    "       'Petal.Width', 'Species']].to_csv('iris.csv',index=False)"
   ]
  },
  {
   "cell_type": "code",
   "execution_count": 5,
   "metadata": {},
   "outputs": [],
   "source": [
    "train,test =train_test_split(iris,test_size=0.3,random_state=100)\n",
    "train_y =train['Species']\n",
    "test_y = test['Species']\n",
    "train_x=train.drop('Species',axis=1)\n",
    "test_x=test.drop('Species',axis=1)"
   ]
  },
  {
   "cell_type": "code",
   "execution_count": 6,
   "metadata": {},
   "outputs": [],
   "source": [
    "pred_dict=[]\n",
    "for i in range(test_x.shape[0]):\n",
    "    distances = pd.DataFrame(euclidean_distances(test_x[i:i+1], train_x).flatten(), index=train_x.index, columns=['ed'])\n",
    "    value=train_y.loc[distances.sort_values(by='ed').head(5).index].value_counts().head(1).index.tolist()[0]\n",
    "    pred_dict.append(value)"
   ]
  },
  {
   "cell_type": "code",
   "execution_count": 127,
   "metadata": {},
   "outputs": [
    {
     "data": {
      "text/plain": [
       "97.77777777777777"
      ]
     },
     "execution_count": 127,
     "metadata": {},
     "output_type": "execute_result"
    }
   ],
   "source": [
    "df_pred = pd.DataFrame({'actual':test_y,'predicted':pred_dict})\n",
    "df_pred['pred_status']=df_pred['actual'] ==df_pred['predicted']\n",
    "dt_accuracy=df_pred[df_pred['pred_status']==True].shape[0] / df_pred.shape[0] *100\n",
    "dt_accuracy"
   ]
  },
  {
   "cell_type": "code",
   "execution_count": 130,
   "metadata": {},
   "outputs": [
    {
     "data": {
      "text/html": [
       "<div>\n",
       "<style scoped>\n",
       "    .dataframe tbody tr th:only-of-type {\n",
       "        vertical-align: middle;\n",
       "    }\n",
       "\n",
       "    .dataframe tbody tr th {\n",
       "        vertical-align: top;\n",
       "    }\n",
       "\n",
       "    .dataframe thead th {\n",
       "        text-align: right;\n",
       "    }\n",
       "</style>\n",
       "<table border=\"1\" class=\"dataframe\">\n",
       "  <thead>\n",
       "    <tr style=\"text-align: right;\">\n",
       "      <th></th>\n",
       "      <th>actual</th>\n",
       "      <th>predicted</th>\n",
       "      <th>pred_status</th>\n",
       "    </tr>\n",
       "  </thead>\n",
       "  <tbody>\n",
       "    <tr>\n",
       "      <th>128</th>\n",
       "      <td>virginica</td>\n",
       "      <td>virginica</td>\n",
       "      <td>True</td>\n",
       "    </tr>\n",
       "    <tr>\n",
       "      <th>11</th>\n",
       "      <td>setosa</td>\n",
       "      <td>setosa</td>\n",
       "      <td>True</td>\n",
       "    </tr>\n",
       "    <tr>\n",
       "      <th>118</th>\n",
       "      <td>virginica</td>\n",
       "      <td>virginica</td>\n",
       "      <td>True</td>\n",
       "    </tr>\n",
       "    <tr>\n",
       "      <th>15</th>\n",
       "      <td>setosa</td>\n",
       "      <td>setosa</td>\n",
       "      <td>True</td>\n",
       "    </tr>\n",
       "    <tr>\n",
       "      <th>123</th>\n",
       "      <td>virginica</td>\n",
       "      <td>virginica</td>\n",
       "      <td>True</td>\n",
       "    </tr>\n",
       "  </tbody>\n",
       "</table>\n",
       "</div>"
      ],
      "text/plain": [
       "        actual  predicted  pred_status\n",
       "128  virginica  virginica         True\n",
       "11      setosa     setosa         True\n",
       "118  virginica  virginica         True\n",
       "15      setosa     setosa         True\n",
       "123  virginica  virginica         True"
      ]
     },
     "execution_count": 130,
     "metadata": {},
     "output_type": "execute_result"
    }
   ],
   "source": [
    "df_pred.head()"
   ]
  },
  {
   "cell_type": "markdown",
   "metadata": {},
   "source": [
    "# Standardisation"
   ]
  },
  {
   "cell_type": "code",
   "execution_count": 3,
   "metadata": {},
   "outputs": [],
   "source": [
    "hr = pd.read_csv('employee_attrition.csv')"
   ]
  },
  {
   "cell_type": "code",
   "execution_count": 4,
   "metadata": {},
   "outputs": [],
   "source": [
    "hr_dummies =pd.get_dummies(hr)"
   ]
  },
  {
   "cell_type": "code",
   "execution_count": 5,
   "metadata": {},
   "outputs": [],
   "source": [
    "scaler =StandardScaler()\n",
    "hr_scaled = scaler.fit_transform(hr_dummies.drop('Attrition',axis=1))\n",
    "hr_scaled= pd.DataFrame(hr_scaled,columns=hr_dummies.drop('Attrition',axis=1).columns)\n",
    "hr_scaled['Attrition']=hr['Attrition']"
   ]
  },
  {
   "cell_type": "code",
   "execution_count": 11,
   "metadata": {},
   "outputs": [],
   "source": [
    "train,test =train_test_split(hr_scaled,test_size=0.3,random_state=100)\n",
    "train_y =train['Attrition']\n",
    "test_y = test['Attrition']\n",
    "train_x=train.drop('Attrition',axis=1)\n",
    "test_x=test.drop('Attrition',axis=1)"
   ]
  },
  {
   "cell_type": "code",
   "execution_count": 12,
   "metadata": {},
   "outputs": [
    {
     "data": {
      "text/html": [
       "<div>\n",
       "<style scoped>\n",
       "    .dataframe tbody tr th:only-of-type {\n",
       "        vertical-align: middle;\n",
       "    }\n",
       "\n",
       "    .dataframe tbody tr th {\n",
       "        vertical-align: top;\n",
       "    }\n",
       "\n",
       "    .dataframe thead th {\n",
       "        text-align: right;\n",
       "    }\n",
       "</style>\n",
       "<table border=\"1\" class=\"dataframe\">\n",
       "  <thead>\n",
       "    <tr style=\"text-align: right;\">\n",
       "      <th></th>\n",
       "      <th>Age</th>\n",
       "      <th>DailyRate</th>\n",
       "      <th>DistanceFromHome</th>\n",
       "      <th>Education</th>\n",
       "      <th>EmployeeCount</th>\n",
       "      <th>EmployeeNumber</th>\n",
       "      <th>EnvironmentSatisfaction</th>\n",
       "      <th>HourlyRate</th>\n",
       "      <th>JobInvolvement</th>\n",
       "      <th>JobLevel</th>\n",
       "      <th>...</th>\n",
       "      <th>JobRole_Research Director</th>\n",
       "      <th>JobRole_Research Scientist</th>\n",
       "      <th>JobRole_Sales Executive</th>\n",
       "      <th>JobRole_Sales Representative</th>\n",
       "      <th>MaritalStatus_Divorced</th>\n",
       "      <th>MaritalStatus_Married</th>\n",
       "      <th>MaritalStatus_Single</th>\n",
       "      <th>Over18_Y</th>\n",
       "      <th>OverTime_No</th>\n",
       "      <th>OverTime_Yes</th>\n",
       "    </tr>\n",
       "  </thead>\n",
       "  <tbody>\n",
       "    <tr>\n",
       "      <th>178</th>\n",
       "      <td>0.99386</td>\n",
       "      <td>-0.685436</td>\n",
       "      <td>-1.010909</td>\n",
       "      <td>-0.891688</td>\n",
       "      <td>0.0</td>\n",
       "      <td>-1.297507</td>\n",
       "      <td>-0.660531</td>\n",
       "      <td>1.284725</td>\n",
       "      <td>0.379672</td>\n",
       "      <td>0.845911</td>\n",
       "      <td>...</td>\n",
       "      <td>-0.239904</td>\n",
       "      <td>-0.497873</td>\n",
       "      <td>1.873287</td>\n",
       "      <td>-0.244625</td>\n",
       "      <td>1.869602</td>\n",
       "      <td>-0.918921</td>\n",
       "      <td>-0.685565</td>\n",
       "      <td>0.0</td>\n",
       "      <td>0.628241</td>\n",
       "      <td>-0.628241</td>\n",
       "    </tr>\n",
       "  </tbody>\n",
       "</table>\n",
       "<p>1 rows × 55 columns</p>\n",
       "</div>"
      ],
      "text/plain": [
       "         Age  DailyRate  DistanceFromHome  Education  EmployeeCount  \\\n",
       "178  0.99386  -0.685436         -1.010909  -0.891688            0.0   \n",
       "\n",
       "     EmployeeNumber  EnvironmentSatisfaction  HourlyRate  JobInvolvement  \\\n",
       "178       -1.297507                -0.660531    1.284725        0.379672   \n",
       "\n",
       "     JobLevel      ...       JobRole_Research Director  \\\n",
       "178  0.845911      ...                       -0.239904   \n",
       "\n",
       "     JobRole_Research Scientist  JobRole_Sales Executive  \\\n",
       "178                   -0.497873                 1.873287   \n",
       "\n",
       "     JobRole_Sales Representative  MaritalStatus_Divorced  \\\n",
       "178                     -0.244625                1.869602   \n",
       "\n",
       "     MaritalStatus_Married  MaritalStatus_Single  Over18_Y  OverTime_No  \\\n",
       "178              -0.918921             -0.685565       0.0     0.628241   \n",
       "\n",
       "     OverTime_Yes  \n",
       "178     -0.628241  \n",
       "\n",
       "[1 rows x 55 columns]"
      ]
     },
     "execution_count": 12,
     "metadata": {},
     "output_type": "execute_result"
    }
   ],
   "source": [
    "train_x.head(1)"
   ]
  },
  {
   "cell_type": "code",
   "execution_count": 16,
   "metadata": {},
   "outputs": [
    {
     "data": {
      "text/html": [
       "<div>\n",
       "<style scoped>\n",
       "    .dataframe tbody tr th:only-of-type {\n",
       "        vertical-align: middle;\n",
       "    }\n",
       "\n",
       "    .dataframe tbody tr th {\n",
       "        vertical-align: top;\n",
       "    }\n",
       "\n",
       "    .dataframe thead th {\n",
       "        text-align: right;\n",
       "    }\n",
       "</style>\n",
       "<table border=\"1\" class=\"dataframe\">\n",
       "  <thead>\n",
       "    <tr style=\"text-align: right;\">\n",
       "      <th></th>\n",
       "      <th>Age</th>\n",
       "      <th>DailyRate</th>\n",
       "      <th>DistanceFromHome</th>\n",
       "      <th>Education</th>\n",
       "      <th>EmployeeCount</th>\n",
       "      <th>EmployeeNumber</th>\n",
       "      <th>EnvironmentSatisfaction</th>\n",
       "      <th>HourlyRate</th>\n",
       "      <th>JobInvolvement</th>\n",
       "      <th>JobLevel</th>\n",
       "      <th>...</th>\n",
       "      <th>JobRole_Research Director</th>\n",
       "      <th>JobRole_Research Scientist</th>\n",
       "      <th>JobRole_Sales Executive</th>\n",
       "      <th>JobRole_Sales Representative</th>\n",
       "      <th>MaritalStatus_Divorced</th>\n",
       "      <th>MaritalStatus_Married</th>\n",
       "      <th>MaritalStatus_Single</th>\n",
       "      <th>Over18_Y</th>\n",
       "      <th>OverTime_No</th>\n",
       "      <th>OverTime_Yes</th>\n",
       "    </tr>\n",
       "  </thead>\n",
       "  <tbody>\n",
       "    <tr>\n",
       "      <th>880</th>\n",
       "      <td>-0.539166</td>\n",
       "      <td>-1.701868</td>\n",
       "      <td>0.469821</td>\n",
       "      <td>0.085049</td>\n",
       "      <td>0.0</td>\n",
       "      <td>0.347504</td>\n",
       "      <td>0.254625</td>\n",
       "      <td>0.546627</td>\n",
       "      <td>-1.026167</td>\n",
       "      <td>-0.961486</td>\n",
       "      <td>...</td>\n",
       "      <td>-0.239904</td>\n",
       "      <td>-0.497873</td>\n",
       "      <td>-0.533821</td>\n",
       "      <td>-0.244625</td>\n",
       "      <td>-0.534873</td>\n",
       "      <td>1.088232</td>\n",
       "      <td>-0.685565</td>\n",
       "      <td>0.0</td>\n",
       "      <td>0.628241</td>\n",
       "      <td>-0.628241</td>\n",
       "    </tr>\n",
       "  </tbody>\n",
       "</table>\n",
       "<p>1 rows × 55 columns</p>\n",
       "</div>"
      ],
      "text/plain": [
       "          Age  DailyRate  DistanceFromHome  Education  EmployeeCount  \\\n",
       "880 -0.539166  -1.701868          0.469821   0.085049            0.0   \n",
       "\n",
       "     EmployeeNumber  EnvironmentSatisfaction  HourlyRate  JobInvolvement  \\\n",
       "880        0.347504                 0.254625    0.546627       -1.026167   \n",
       "\n",
       "     JobLevel      ...       JobRole_Research Director  \\\n",
       "880 -0.961486      ...                       -0.239904   \n",
       "\n",
       "     JobRole_Research Scientist  JobRole_Sales Executive  \\\n",
       "880                   -0.497873                -0.533821   \n",
       "\n",
       "     JobRole_Sales Representative  MaritalStatus_Divorced  \\\n",
       "880                     -0.244625               -0.534873   \n",
       "\n",
       "     MaritalStatus_Married  MaritalStatus_Single  Over18_Y  OverTime_No  \\\n",
       "880               1.088232             -0.685565       0.0     0.628241   \n",
       "\n",
       "     OverTime_Yes  \n",
       "880     -0.628241  \n",
       "\n",
       "[1 rows x 55 columns]"
      ]
     },
     "execution_count": 16,
     "metadata": {},
     "output_type": "execute_result"
    }
   ],
   "source": [
    "test_x.head(1)"
   ]
  },
  {
   "cell_type": "code",
   "execution_count": 36,
   "metadata": {},
   "outputs": [],
   "source": [
    "pred_dict=[]\n",
    "for i in range(test_x.shape[0]):\n",
    "    distances = pd.Series(euclidean_distances(test_x[i:i+1],train_x).flatten())\n",
    "    distances.index =train_y.index\n",
    "    neighs=distances.sort_values().head().index.tolist()\n",
    "    value=train_y.loc[neighs].value_counts().head(1).index.tolist()[0]\n",
    "    pred_dict.append(value)"
   ]
  },
  {
   "cell_type": "code",
   "execution_count": 31,
   "metadata": {},
   "outputs": [
    {
     "data": {
      "text/plain": [
       "0    862\n",
       "1    167\n",
       "Name: Attrition, dtype: int64"
      ]
     },
     "execution_count": 31,
     "metadata": {},
     "output_type": "execute_result"
    }
   ],
   "source": [
    "df_pred = pd.DataFrame({'actual':test_y,'predicted':pred_dict})\n",
    "df_pred['pred_status']=df_pred['actual'] ==df_pred['predicted']\n",
    "dt_accuracy=df_pred[df_pred['pred_status']==True].shape[0] / df_pred.shape[0] *100\n",
    "dt_accuracy\n",
    "train_y.value_counts()"
   ]
  }
 ],
 "metadata": {
  "kernelspec": {
   "display_name": "Python 3",
   "language": "python",
   "name": "python3"
  },
  "language_info": {
   "codemirror_mode": {
    "name": "ipython",
    "version": 3
   },
   "file_extension": ".py",
   "mimetype": "text/x-python",
   "name": "python",
   "nbconvert_exporter": "python",
   "pygments_lexer": "ipython3",
   "version": "3.6.4"
  }
 },
 "nbformat": 4,
 "nbformat_minor": 2
}
