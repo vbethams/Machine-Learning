{
 "cells": [
  {
   "cell_type": "code",
   "execution_count": 7,
   "metadata": {},
   "outputs": [],
   "source": [
    "import numpy as np \n",
    "import pandas as pd \n",
    "import numpy as np\n",
    "import pandas as pd\n",
    "from sklearn.model_selection import train_test_split\n",
    "from sklearn.tree import DecisionTreeClassifier\n",
    "from sklearn.ensemble import RandomForestClassifier\n",
    "from sklearn.ensemble import AdaBoostClassifier\n",
    "from sklearn.metrics import accuracy_score,classification_report\n",
    "train = pd.read_csv('train.csv')\n",
    "test=pd.read_csv('test.csv')\n",
    "sample = pd.read_csv('sample_submission.csv')"
   ]
  },
  {
   "cell_type": "code",
   "execution_count": 4,
   "metadata": {},
   "outputs": [],
   "source": [
    "train,test = train_test_split(train,test_size=0.3,random_state=100)\n",
    "train_x=train.drop('label',axis=1)\n",
    "test_x=test.drop('label',axis=1)\n",
    "train_y=train['label']\n",
    "test_y=test['label']"
   ]
  },
  {
   "cell_type": "code",
   "execution_count": 16,
   "metadata": {},
   "outputs": [
    {
     "data": {
      "text/plain": [
       "84.9920634920635"
      ]
     },
     "execution_count": 16,
     "metadata": {},
     "output_type": "execute_result"
    }
   ],
   "source": [
    "model1 = DecisionTreeClassifier(random_state=100)\n",
    "model1.fit(train_x,train_y)\n",
    "test_pred1 = model1.predict(test_x)\n",
    "df_pred1 = pd.DataFrame({'actual':test_y,'predicted':test_pred1})\n",
    "df_pred1['pred_status'] = df_pred1['actual'] == df_pred1['predicted']\n",
    "df_pred1['pred_status'].sum()/df_pred1.shape[0] *100"
   ]
  },
  {
   "cell_type": "code",
   "execution_count": 20,
   "metadata": {},
   "outputs": [
    {
     "data": {
      "text/plain": [
       "93.54761904761905"
      ]
     },
     "execution_count": 20,
     "metadata": {},
     "output_type": "execute_result"
    }
   ],
   "source": [
    "model2 = RandomForestClassifier(random_state=100)\n",
    "model2.fit(train_x,train_y)\n",
    "test_pred2 = model2.predict(test_x)\n",
    "df_pred2 = pd.DataFrame({'actual':test_y,'predicted':test_pred2})\n",
    "df_pred2['pred_status'] = df_pred2['actual'] == df_pred2['predicted']\n",
    "df_pred2['pred_status'].sum()/df_pred2.shape[0] *100"
   ]
  },
  {
   "cell_type": "code",
   "execution_count": 21,
   "metadata": {},
   "outputs": [
    {
     "data": {
      "text/plain": [
       "70.77777777777777"
      ]
     },
     "execution_count": 21,
     "metadata": {},
     "output_type": "execute_result"
    }
   ],
   "source": [
    "model3 = AdaBoostClassifier(random_state=100)\n",
    "model3.fit(train_x,train_y)\n",
    "test_pred3 = model3.predict(test_x)\n",
    "df_pred3 = pd.DataFrame({'actual':test_y,'predicted':test_pred3})\n",
    "df_pred3['pred_status'] = df_pred3['actual'] == df_pred3['predicted']\n",
    "df_pred3['pred_status'].sum()/df_pred3.shape[0] *100"
   ]
  },
  {
   "cell_type": "code",
   "execution_count": 27,
   "metadata": {},
   "outputs": [
    {
     "data": {
      "text/plain": [
       "93.7063492063492"
      ]
     },
     "execution_count": 27,
     "metadata": {},
     "output_type": "execute_result"
    }
   ],
   "source": [
    "from sklearn.neighbors import KNeighborsClassifier  \n",
    "model4 = KNeighborsClassifier()\n",
    "model4.fit(train_x,train_y)\n",
    "test_pred4 = model4.predict(test_x)\n",
    "df_pred4 = pd.DataFrame({'actual':test_y,'predicted':test_pred4})\n",
    "df_pred4['pred_status'] = df_pred4['actual'] == df_pred4['predicted']\n",
    "df_pred4['pred_status'].sum()/df_pred4.shape[0] *100"
   ]
  }
 ],
 "metadata": {
  "kernelspec": {
   "display_name": "Python 3",
   "language": "python",
   "name": "python3"
  },
  "language_info": {
   "codemirror_mode": {
    "name": "ipython",
    "version": 3
   },
   "file_extension": ".py",
   "mimetype": "text/x-python",
   "name": "python",
   "nbconvert_exporter": "python",
   "pygments_lexer": "ipython3",
   "version": "3.6.4"
  }
 },
 "nbformat": 4,
 "nbformat_minor": 2
}
