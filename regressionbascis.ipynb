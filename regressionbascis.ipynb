{
 "cells": [
  {
   "cell_type": "code",
   "execution_count": null,
   "metadata": {},
   "outputs": [],
   "source": [
    "import numpy as np\n",
    "import pandas as pd\n",
    "x= np.array([95,85,80,70,60])\n",
    "y=np.array([85,95,70,65,70])\n",
    "\n",
    "x_mean = np.mean(x)\n",
    "y_mean = np.mean(y)\n",
    "\n",
    "\n",
    "num = sum(( x-x_mean) * (y-y_mean))\n",
    "denom = sum((x-x_mean)**2)\n",
    "b1= num/denom\n",
    "\n",
    "b0 = y_mean - b1 *(x_mean)\n",
    "\n",
    "ypred =b1*x+b0\n",
    "y= y.reshape(-1,1)\n",
    "ypred = ypred.reshape(-1,1)\n",
    "out = np.concatenate((y,ypred),axis=1)\n",
    "\n",
    "res = float(sum(ypred -y))\n",
    "sq_err =float(sum((y-ypred)**2))\n",
    "mse = np.mean((y-ypred)**2)\n",
    "rmse = np.sqrt(np.mean((y-ypred)**2))\n",
    "print(\"the residue is:\",res)\n",
    "print(\"the squared error is:\",sq_err)\n",
    "print(\"the mean squared error is:\",mse)\n",
    "print(\"the root mean squared error is:\",rmse)\n",
    "\n",
    "rsq = 1-( (sum((y-ypred )**2))/sum((y-y_mean)**2))\n",
    "N=len(x)\n",
    "p=1\n",
    "rsq_adj =1-((1-rsq**2) * (N-1))/(N-p-1)\n",
    "\n",
    "brain = pd.read_csv('headbrain.csv')\n",
    "brain = brain.drop(['Gender',''])"
   ]
  }
 ],
 "metadata": {
  "kernelspec": {
   "display_name": "Python 3",
   "language": "python",
   "name": "python3"
  },
  "language_info": {
   "codemirror_mode": {
    "name": "ipython",
    "version": 3
   },
   "file_extension": ".py",
   "mimetype": "text/x-python",
   "name": "python",
   "nbconvert_exporter": "python",
   "pygments_lexer": "ipython3",
   "version": "3.6.4"
  }
 },
 "nbformat": 4,
 "nbformat_minor": 2
}
